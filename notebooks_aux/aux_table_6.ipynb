{
 "cells": [
  {
   "cell_type": "markdown",
   "metadata": {},
   "source": [
    "# Comparison between patients of PD\n",
    "\n",
    "In this notebook we will make a comparison for PD with early and late onset, taking into account motor and non motor symptoms."
   ]
  },
  {
   "cell_type": "code",
   "execution_count": null,
   "metadata": {},
   "outputs": [],
   "source": [
    "def get_library_path()->str:\n",
    "\n",
    "    cwd = os.getcwd()\n",
    "    lst = cwd.split(os.sep)[:-1]\n",
    "\n",
    "    path_lib = f'{os.sep}'\n",
    "\n",
    "    for elem in lst:\n",
    "        path_lib = os.path.join(path_lib, elem)\n",
    "\n",
    "    return path_lib\n",
    "\n",
    "# imports\n",
    "\n",
    "import os\n",
    "import sys\n",
    "\n",
    "path_to_lib = get_library_path()\n",
    "\n",
    "sys.path.append(path_to_lib)\n",
    "import luxgiant_clinical.TwoCatAnalysis as two\n",
    "from luxgiant_clinical.Helpers import categories_recoder\n",
    "\n",
    "import pandas as pd"
   ]
  },
  {
   "cell_type": "code",
   "execution_count": null,
   "metadata": {},
   "outputs": [],
   "source": [
    "# load data\n",
    "\n",
    "folder_path = os.path.join(path_to_lib, 'data/source')\n",
    "\n",
    "df = pd.read_csv(\n",
    "    os.path.join(folder_path, 'cleaned_file.csv'), \n",
    "    low_memory=False\n",
    ")"
   ]
  },
  {
   "cell_type": "code",
   "execution_count": null,
   "metadata": {},
   "outputs": [],
   "source": [
    "# filter data to keep only patients with age at onset information\n",
    "\n",
    "mask_patients= (df['Status']=='Patient')\n",
    "mask_age     = (~df['agecat_1'].isnull()) \n",
    "\n",
    "df_cases = df[mask_patients & mask_age].reset_index(drop=True)\n",
    "del df\n",
    "\n",
    "df_cases.shape"
   ]
  },
  {
   "cell_type": "code",
   "execution_count": null,
   "metadata": {},
   "outputs": [],
   "source": [
    "motor_at_onset = {\n",
    "    \"initial_motor_symptom_s___2\"   : \"Rest tremor\" ,\n",
    "    \"initial_motor_symptom_s___12\"  : \"Bradykinesia\" ,\n",
    "    \"initial_motor_symptom_s___13\"  : \"Rigidity\",\n",
    "    \"initial_motor_symptom_s___3\"   : \"Postural/action\",\n",
    "    \"initial_motor_symptom_s___8\"   : \"Reduced dexterity\",\n",
    "    \"initial_motor_symptom_s___9\"   : \"Microphagia\",\n",
    "    \"initial_motor_symptom_s___11\"  : \"Reduced arm swing\",\n",
    "    \"initial_motor_symptom_s___16\"  : \"Gait disorder\",\n",
    "    \"initial_motor_symptom_s___14\"  : \"Freezing\",\n",
    "    \"initial_motor_symptom_s___15\"  : \"Falls\",\n",
    "}\n",
    "variables1 = ['participant_id', 'agecat_1'] + list(motor_at_onset.keys())\n",
    "\n",
    "nonmotor_at_onset = {\n",
    "    \"initial_non_motor_symptom___18\": \"Constipation\",\n",
    "    \"initial_non_motor_symptom___8\" : \"Insomnia\",\n",
    "    \"initial_non_motor_symptom___4\" : \"RBD\",\n",
    "    \"initial_non_motor_symptom___4\" : \"Restless Leg Syndrome\",\n",
    "    \"initial_non_motor_symptom___20\": \"Urinary urgency\",\n",
    "    \"initial_non_motor_symptom___13\": \"Hyperhidrosis\",\n",
    "    \"initial_non_motor_symptom___10\": \"Anosmia/hyposmia\",\n",
    "    \"initial_non_motor_symptom___2\" : \"Cognitive symptoms\",\n",
    "}\n",
    "variables2 = ['participant_id', 'agecat_1'] + list(nonmotor_at_onset.keys())\n",
    "\n",
    "motor_current = {\n",
    "    \"current_motor_symptom_s___2\"   : \"Rest tremor\",\n",
    "    \"current_motor_symptom_s___3\"   : \"Postural/action tremor\",\n",
    "    \"current_motor_symptom_s___14\"  : \"Bradykinesia\",\n",
    "    \"current_motor_symptom_s___4\"   : \"Rigidity\",\n",
    "    \"current_motor_symptom_s___15\"  : \"Gait disorder\",\n",
    "    \"current_motor_symptom_s___16\"  : \"Falls\",\n",
    "    \"current_motor_symptom_s___17\"  : \"Freezing\",\n",
    "    \"current_motor_symptom_s___18\"  : \"Dyskinesias\",\n",
    "    \"current_motor_symptom_s___19\"  : \"Motor fluctuation\",\n",
    "}\n",
    "variables3 = ['participant_id', 'agecat_1'] + list(motor_current.keys())\n",
    "\n",
    "nonmotor_current = {\n",
    "    \"current_non_motor_symptom___3\" : \"Psychosis\",\n",
    "    \"current_non_motor_symptom___5\" : \"Depression\",\n",
    "    \"current_non_motor_symptom___6\" : \"REM sleep behaviour disorder\",\n",
    "    \"current_non_motor_symptom___7\" : \"Restless leg syndrome\",\n",
    "    \"current_non_motor_symptom___9\" : \"Anosmia/hyposmia\",\n",
    "    \"current_non_motor_symptom___2\" : \"Cognitive impairment\",\n",
    "    \"current_non_motor_symptom___10\": \"Excessive daytime sleepness\",\n",
    "    \"current_non_motor_symptom___11\": \"Insomnia\",\n",
    "    \"current_non_motor_symptom___14\": \"Orthostasis\",\n",
    "    \"current_non_motor_symptom___16\": \"Hyperhidrosis\",\n",
    "    \"current_non_motor_symptom___17\": \"Seborrhea\",\n",
    "    \"current_non_motor_symptom___20\": \"Constipation\",\n",
    "    \"current_non_motor_symptom___22\": \"Urinary incontinence\"\n",
    "}\n",
    "variables4 = ['participant_id', 'agecat_1'] + list(nonmotor_current.keys())\n",
    "\n",
    "groups = ['Age at onset <50 years', 'Age at onset >=50 years']"
   ]
  },
  {
   "cell_type": "code",
   "execution_count": null,
   "metadata": {},
   "outputs": [],
   "source": [
    "stats = [\n",
    "    {'n' : list(motor_at_onset.values())},\n",
    "    {'n' : list(nonmotor_at_onset.values())},\n",
    "    {'n' : list(motor_current.values())},\n",
    "    {'n' : list(nonmotor_current.values())}\n",
    "]"
   ]
  },
  {
   "cell_type": "code",
   "execution_count": null,
   "metadata": {},
   "outputs": [],
   "source": [
    "df_split = [\n",
    "    df_cases[variables1].copy().rename(columns=motor_at_onset),\n",
    "    df_cases[variables2].copy().rename(columns=nonmotor_at_onset),\n",
    "    df_cases[variables3].copy().rename(columns=motor_current),\n",
    "    df_cases[variables4].copy().rename(columns=nonmotor_current),\n",
    "]"
   ]
  },
  {
   "cell_type": "code",
   "execution_count": null,
   "metadata": {},
   "outputs": [],
   "source": [
    "for k in range(len(df_split)):\n",
    "    df_split[k] = categories_recoder(df_split[k], stats[k]['n'], {\"Checked\":1, \"Unchecked\":0})\n",
    "    df_split[k] = categories_recoder(df_split[k], [\"agecat_1\"], {\"<50\":'Age at onset <50 years', \">=50\":'Age at onset >=50 years'})"
   ]
  },
  {
   "cell_type": "code",
   "execution_count": null,
   "metadata": {},
   "outputs": [],
   "source": [
    "dfs = []\n",
    "for k in range(len(df_split)):\n",
    "    dfs.append(\n",
    "        two.report_proportion(\n",
    "            data_df    =df_split[k],\n",
    "            variables  =stats[k]['n'],\n",
    "            groups     =groups,\n",
    "            grouping_by='agecat_1',\n",
    "        )\n",
    "    )\n",
    "\n",
    "dfs = [two.final_formatter(df, groups) for df in dfs]"
   ]
  },
  {
   "cell_type": "code",
   "execution_count": null,
   "metadata": {},
   "outputs": [],
   "source": [
    "def dummy_frame(subheader:str, columns:list)->pd.DataFrame:\n",
    "\n",
    "    temp = pd.DataFrame(columns=columns)\n",
    "    temp.loc[0] = [subheader] + ['']*len(columns[1:])\n",
    "\n",
    "    return temp"
   ]
  },
  {
   "cell_type": "code",
   "execution_count": null,
   "metadata": {},
   "outputs": [],
   "source": [
    "subheaders =[\n",
    "    'Motor symptoms at onset', 'Non-motor symptoms at onset', \n",
    "    'Current motor symptoms', 'Current non-motor symptoms'\n",
    "]\n",
    "\n",
    "dfs = [\n",
    "    pd.concat(\n",
    "        [dummy_frame(subheader=subheaders[k], columns=dfs[k].columns), dfs[k]]) for k in range(len(dfs)\n",
    "    )\n",
    "]"
   ]
  },
  {
   "cell_type": "code",
   "execution_count": null,
   "metadata": {},
   "outputs": [],
   "source": [
    "df = pd.concat(dfs, ignore_index=True)\n",
    "df"
   ]
  },
  {
   "cell_type": "code",
   "execution_count": null,
   "metadata": {},
   "outputs": [],
   "source": [
    "# save result in csv file\n",
    "\n",
    "df.to_csv(os.path.join(path_to_lib, 'data/auxiliar/new_aux_table_6.csv'), index=False)"
   ]
  }
 ],
 "metadata": {
  "kernelspec": {
   "display_name": ".venv",
   "language": "python",
   "name": "python3"
  },
  "language_info": {
   "codemirror_mode": {
    "name": "ipython",
    "version": 3
   },
   "file_extension": ".py",
   "mimetype": "text/x-python",
   "name": "python",
   "nbconvert_exporter": "python",
   "pygments_lexer": "ipython3",
   "version": "3.12.7"
  }
 },
 "nbformat": 4,
 "nbformat_minor": 2
}
