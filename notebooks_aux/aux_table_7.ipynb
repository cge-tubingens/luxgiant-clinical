{
 "cells": [
  {
   "cell_type": "markdown",
   "metadata": {},
   "source": [
    "# Auxiliar Table 7"
   ]
  },
  {
   "cell_type": "code",
   "execution_count": null,
   "metadata": {},
   "outputs": [],
   "source": [
    "def get_library_path()->str:\n",
    "\n",
    "    cwd = os.getcwd()\n",
    "    lst = cwd.split(os.sep)[:-1]\n",
    "\n",
    "    path_lib = f'{os.sep}'\n",
    "\n",
    "    for elem in lst:\n",
    "        path_lib = os.path.join(path_lib, elem)\n",
    "\n",
    "    return path_lib\n",
    "\n",
    "# imports\n",
    "\n",
    "import os\n",
    "import sys\n",
    "\n",
    "path_to_lib = get_library_path()\n",
    "\n",
    "sys.path.append(path_to_lib)\n",
    "import luxgiant_clinical.ThreeCatAnalysis as thr\n",
    "from luxgiant_clinical.Helpers import categories_recoder\n",
    "\n",
    "import pandas as pd\n",
    "import numpy as np"
   ]
  },
  {
   "cell_type": "code",
   "execution_count": null,
   "metadata": {},
   "outputs": [],
   "source": [
    "# load data\n",
    "\n",
    "folder_path = os.path.join(path_to_lib, 'data/source')\n",
    "\n",
    "df = pd.read_csv(\n",
    "    os.path.join(folder_path, 'cleaned_file.csv'), \n",
    "    low_memory=False\n",
    ")"
   ]
  },
  {
   "cell_type": "code",
   "execution_count": null,
   "metadata": {},
   "outputs": [],
   "source": [
    "# filter data to keep only patients with PD subtype information\n",
    "\n",
    "mask_patients= (df['Status']=='Patient')\n",
    "mask_subtype = ~df['subtype'].isnull()\n",
    "mask_off     = (df['on_off']=='OFF: Off is the typical functional state when patien ts have a poor response in spite of taking medications.')\n",
    "\n",
    "df_cases = df[mask_patients & mask_off & mask_subtype].reset_index(drop=True)\n",
    "del df\n",
    "\n",
    "df_cases.shape"
   ]
  },
  {
   "cell_type": "markdown",
   "metadata": {},
   "source": [
    "## Summary statistics for demography and lifestyle"
   ]
  },
  {
   "cell_type": "code",
   "execution_count": null,
   "metadata": {},
   "outputs": [],
   "source": [
    "# rename and select first group of variables\n",
    "variables_dict_1 = {\n",
    "    \"age_at_onset\"              : \"Age at Onset (years)\",\n",
    "    \"agecat_1\"                  : \"Onset <50 years\",\n",
    "    \"agecat_2\"                  : \"Onset <40 years\",\n",
    "    \"age\"                       : \"Age at Recruitment (years)\",\n",
    "    \"PD_duration\"               : \"Duration of Disease (years)\",\n",
    "    \"sex\"                       : \"Male\",\n",
    "    \"bmi_comp\"                  : \"Body Mass Index\",\n",
    "    \"years_of_education\"        : \"Years of Education\",\n",
    "    \"work\"                      : \"Currently Employed\",\n",
    "    \"nature_of_work___1\"        : \"Agriculture as occupation\",\n",
    "    \"over_your_lifetime_have_yo\": \"Life time direct exposure to pesticide/insecticide/fungicide\",\n",
    "    \"have_you_ever_had_a_head_i\": \"Head injury or concussion\",\n",
    "    \"in_your_lifetime_have_you\" : \"Smoked 100 or more cigarettes in lifetime\",\n",
    "    \"in_your_lifetime_have\"     : \"Regular consumption of caffeinated drinks for >6months\",                                \n",
    "}\n",
    "variables_1 = ['participant_id', 'subtype'] + list(variables_dict_1.keys())\n",
    "\n",
    "# statistical measures\n",
    "stats_meas = {\n",
    "    'mean'  : [\"Age at Recruitment (years)\", \"Age at Onset (years)\", \"Body Mass Index\"],\n",
    "    'n'     : [\"Onset <50 years\", \"Onset <40 years\", \"Male\", \"Currently Employed\", \n",
    "               \"Agriculture as occupation\", \n",
    "               \"Life time direct exposure to pesticide/insecticide/fungicide\", \n",
    "               \"Smoked 100 or more cigarettes in lifetime\", \n",
    "               \"Regular consumption of caffeinated drinks for >6months\", \n",
    "               \"Head injury or concussion\"],\n",
    "    'median': [\"Duration of Disease (years)\", \"Years of Education\"]\n",
    "}\n",
    "\n",
    "groups = ['Tremor Dominant', 'Indeterminate', 'Postural instability and gait difficulty']"
   ]
  },
  {
   "cell_type": "code",
   "execution_count": null,
   "metadata": {},
   "outputs": [],
   "source": [
    "# keep only variables for analysis\n",
    "\n",
    "df_cases_1 = df_cases[variables_1].copy()\n",
    "df_cases_1 = df_cases_1.rename(columns=variables_dict_1)"
   ]
  },
  {
   "cell_type": "code",
   "execution_count": null,
   "metadata": {},
   "outputs": [],
   "source": [
    "# recode variable values\n",
    "\n",
    "recode_dict = {\n",
    "    \"Currently Employed\"                :{'Yes':1, 'No':0},\n",
    "    \"Agriculture as occupation\"         :{'Checked':1, 'Unchecked':0},\n",
    "    \"Male\"                              :{'Male':1, 'Female':0},\n",
    "    \"Onset <50 years\"                   :{'<50':1, '>=50':0},\n",
    "    \"Onset <40 years\"                   :{'<40':1, '>=40':0}\n",
    "}\n",
    "for key in recode_dict.keys():\n",
    "    df_cases_1 = categories_recoder(df_cases_1, [key], recode_dict[key])\n",
    "\n",
    "recode = [\"Life time direct exposure to pesticide/insecticide/fungicide\", \n",
    "          \"Smoked 100 or more cigarettes in lifetime\",\n",
    "          \"Regular consumption of caffeinated drinks for >6months\", \"Head injury or concussion\"]\n",
    "mapping = {'Yes':1, 'No':0, 'Dont Know':np.nan, 'Refused':np.nan, 'Possibly':np.nan}\n",
    "\n",
    "df_cases_1 = categories_recoder(df_cases_1, recode, mapping)\n"
   ]
  },
  {
   "cell_type": "code",
   "execution_count": null,
   "metadata": {},
   "outputs": [],
   "source": [
    "summary1 = [\n",
    "    thr.report_mean_std(\n",
    "        data_df    =df_cases_1,\n",
    "        variables  =stats_meas['mean'],\n",
    "        groups     =groups,\n",
    "        grouping_by='subtype'\n",
    "    ),\n",
    "    thr.report_median_iqr(\n",
    "        data_df    =df_cases_1,\n",
    "        variables  =stats_meas['median'],\n",
    "        groups     =groups,\n",
    "        grouping_by='subtype'\n",
    "    ),\n",
    "    thr.report_proportion(\n",
    "        data_df    =df_cases_1,\n",
    "        variables  =stats_meas['n'],\n",
    "        groups     =groups,\n",
    "        grouping_by='subtype'\n",
    "    )\n",
    "]"
   ]
  },
  {
   "cell_type": "code",
   "execution_count": null,
   "metadata": {},
   "outputs": [],
   "source": [
    "# rename and select second group of variables\n",
    "\n",
    "variables_dict_2 = {\n",
    "    \"medical_history_metabolic___1\" : \"Diabetes\",\n",
    "    \"medical_history_metabolic___3\" : \"High Cholesterol\",\n",
    "    \"medical_history_cardiovasc___2\": \"Hypertension\",\n",
    "    \"medical_history_cardiovasc___3\": \"History of CAD\",\n",
    "    \"medical_history_neurologic___7\": \"Stroke\",\n",
    "    \"medical_history_psychologi___3\": \"History of Depression\",\n",
    "    \"medical_history_psychologi___1\": \"History of Anxiety\",\n",
    "    \"medical_history_cancer___1\"    : \"Melanoma\" ,\n",
    "    \"medical_history_cancer___2\"    : \"Prostate Cancer\" ,\n",
    "    \"medical_history_cancer___3\"    : \"Other Cancers\",\n",
    "    \"family_member_diagnosed_wi\"    : \"Family History of PD\",\n",
    "    \"family_member_diagnosed_wi_2\"  : \"Family History of Tremor\"\n",
    "}\n",
    "variables_2 = ['participant_id', 'subtype'] + list(variables_dict_2.keys())\n",
    "\n",
    "# statistical measures\n",
    "stats_meas2 = {\n",
    "    'n'     : [\"Stroke\", \"Melanoma\", \"Prostate Cancer\", \"Other Cancers\", \"Diabetes\", \"High Cholesterol\", \"Hypertension\",\n",
    "               \"History of CAD\", \"History of Anxiety\", \"History of Depression\", \"Family History of PD\", \n",
    "               \"Family History of Tremor\"],\n",
    "}"
   ]
  },
  {
   "cell_type": "code",
   "execution_count": null,
   "metadata": {},
   "outputs": [],
   "source": [
    "# keep only variables for analysis\n",
    "\n",
    "df_cases_2 = df_cases[variables_2].copy()\n",
    "df_cases_2 = df_cases_2.rename(columns=variables_dict_2)"
   ]
  },
  {
   "cell_type": "code",
   "execution_count": null,
   "metadata": {},
   "outputs": [],
   "source": [
    "# recode variable values\n",
    "fam_hist = [\"Family History of PD\", \"Family History of Tremor\"]\n",
    "remaining= [feat for feat in stats_meas2['n'] if feat not in fam_hist]\n",
    "\n",
    "df_cases_2 = categories_recoder(df_cases_2, fam_hist, {\"Yes\":1, \"No\":0})\n",
    "df_cases_2 = categories_recoder(df_cases_2, remaining, {\"Checked\":1, \"Unchecked\":0})"
   ]
  },
  {
   "cell_type": "code",
   "execution_count": null,
   "metadata": {},
   "outputs": [],
   "source": [
    "summary2 = [\n",
    "    thr.report_proportion(\n",
    "        data_df    =df_cases_2,\n",
    "        variables  =stats_meas2['n'],\n",
    "        groups     =groups,\n",
    "        grouping_by='subtype',\n",
    "        subheader  ='Medical History'\n",
    "    ),\n",
    "]"
   ]
  },
  {
   "cell_type": "code",
   "execution_count": null,
   "metadata": {},
   "outputs": [],
   "source": [
    "# concatenate all results\n",
    "\n",
    "df_7 = pd.concat(\n",
    "    summary1 + summary2, axis=0,ignore_index=True\n",
    ")"
   ]
  },
  {
   "cell_type": "code",
   "execution_count": null,
   "metadata": {},
   "outputs": [],
   "source": [
    "df_cases_3 = df_cases_1[~(df_cases_1['subtype']=='Indeterminate')].reset_index(drop=True)\n",
    "df_cases_4 = df_cases_2[~(df_cases_2['subtype']=='Indeterminate')].reset_index(drop=True)"
   ]
  },
  {
   "cell_type": "code",
   "execution_count": null,
   "metadata": {},
   "outputs": [],
   "source": [
    "summary3 = [\n",
    "    thr.bonferroni_mean_std(\n",
    "        data_df      =df_cases_3, \n",
    "        variables    =stats_meas['mean'], \n",
    "        groups       =['Tremor Dominant',  'Postural instability and gait difficulty'],\n",
    "        grouping_by  ='subtype',\n",
    "        correc_factor=3\n",
    "    ),\n",
    "    thr.bonferroni_median_iqr(\n",
    "        data_df      =df_cases_3, \n",
    "        variables    =stats_meas['median'], \n",
    "        groups       =['Tremor Dominant',  'Postural instability and gait difficulty'],\n",
    "        grouping_by  ='subtype',\n",
    "        correc_factor=3\n",
    "    ),\n",
    "    thr.bonferroni_proportions(\n",
    "        data_df      =df_cases_3, \n",
    "        variables    =stats_meas['n'], \n",
    "        groups       =['Tremor Dominant',  'Postural instability and gait difficulty'],\n",
    "        grouping_by  ='subtype',\n",
    "        correc_factor=3\n",
    "    )\n",
    "]"
   ]
  },
  {
   "cell_type": "code",
   "execution_count": null,
   "metadata": {},
   "outputs": [],
   "source": [
    "summary4 = [\n",
    "    thr.bonferroni_proportions(\n",
    "        data_df      =df_cases_4, \n",
    "        variables    =stats_meas2['n'], \n",
    "        groups       =['Tremor Dominant',  'Postural instability and gait difficulty'],\n",
    "        grouping_by  ='subtype',\n",
    "        correc_factor=3\n",
    "    ),\n",
    "]"
   ]
  },
  {
   "cell_type": "code",
   "execution_count": null,
   "metadata": {},
   "outputs": [],
   "source": [
    "# concatenate all results\n",
    "\n",
    "df_71 = pd.concat(\n",
    "    summary3 + summary4, axis=0,ignore_index=True\n",
    ")"
   ]
  },
  {
   "cell_type": "code",
   "execution_count": null,
   "metadata": {},
   "outputs": [],
   "source": [
    "df_7 = thr.final_formatter(\n",
    "    overall_df =df_7, \n",
    "    adjusted_df=[df_71], \n",
    "    groups     =['Tremor Dominant', 'Indeterminate', 'Postural instability and gait difficulty']\n",
    ")"
   ]
  },
  {
   "cell_type": "code",
   "execution_count": null,
   "metadata": {},
   "outputs": [],
   "source": [
    "row_order = [\n",
    "    \"Age at Onset (years)\", \"Onset <50 years\", \"Onset <40 years\", \"Age at Recruitment (years)\",\n",
    "    \"Duration of Disease (years)\", \"Male\", \"Body Mass Index\", \"Years of Education\", \"Currently Employed\",\n",
    "    \"Family History of PD\", \"Family History of Tremor\", \"Agriculture as a occupation\",\n",
    "    \"Life time direct exposure to pesticide/insecticide/fungicide\", \"Head injury or concussion\",\n",
    "    \"Smoked 100 or more cigarettes in lifetime\", \n",
    "    \"Regular consumption of caffeinated drinks for >6months\", \"Diabetes\", \"High Cholesterol\",\n",
    "    \"Hypertension\", \"History of CAD\", \"Stroke\", \"History of Depression\", \"History of Anxiety\",\n",
    "    \"Melanoma\", \"Prostate Cancer\" , \"Other Cancers\"\n",
    "]"
   ]
  },
  {
   "cell_type": "code",
   "execution_count": null,
   "metadata": {},
   "outputs": [],
   "source": [
    "df_final = pd.DataFrame(columns=df_7.columns)\n",
    "\n",
    "for row in row_order:\n",
    "    df_final = pd.concat(\n",
    "        [df_final, df_7[df_7['Variable']==row]], axis=0, ignore_index=True\n",
    "    )\n",
    "\n",
    "df_final"
   ]
  },
  {
   "cell_type": "code",
   "execution_count": null,
   "metadata": {},
   "outputs": [],
   "source": [
    "df_final.to_csv(os.path.join(path_to_lib, 'data/auxiliar/aux_table_7.csv'), index=False)"
   ]
  }
 ],
 "metadata": {
  "kernelspec": {
   "display_name": ".venv",
   "language": "python",
   "name": "python3"
  },
  "language_info": {
   "codemirror_mode": {
    "name": "ipython",
    "version": 3
   },
   "file_extension": ".py",
   "mimetype": "text/x-python",
   "name": "python",
   "nbconvert_exporter": "python",
   "pygments_lexer": "ipython3",
   "version": "3.12.7"
  }
 },
 "nbformat": 4,
 "nbformat_minor": 2
}
