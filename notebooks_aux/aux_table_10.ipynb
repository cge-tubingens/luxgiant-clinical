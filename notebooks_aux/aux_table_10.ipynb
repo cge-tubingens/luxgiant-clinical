{
 "cells": [
  {
   "cell_type": "code",
   "execution_count": null,
   "metadata": {},
   "outputs": [],
   "source": [
    "def get_library_path()->str:\n",
    "\n",
    "    cwd = os.getcwd()\n",
    "    lst = cwd.split(os.sep)[:-1]\n",
    "\n",
    "    path_lib = f'{os.sep}'\n",
    "\n",
    "    for elem in lst:\n",
    "        path_lib = os.path.join(path_lib, elem)\n",
    "\n",
    "    return path_lib\n",
    "\n",
    "# imports\n",
    "\n",
    "import os\n",
    "import sys\n",
    "\n",
    "path_to_lib = get_library_path()\n",
    "\n",
    "sys.path.append(path_to_lib)\n",
    "import luxgiant_clinical.TwoCatAnalysis as two\n",
    "\n",
    "import pandas as pd"
   ]
  },
  {
   "cell_type": "code",
   "execution_count": null,
   "metadata": {},
   "outputs": [],
   "source": [
    "# load data\n",
    "\n",
    "folder_path = os.path.join(path_to_lib, 'data/source')\n",
    "\n",
    "df = pd.read_csv(\n",
    "    os.path.join(folder_path, 'cleaned_file.csv'), \n",
    "    low_memory=False\n",
    ")"
   ]
  },
  {
   "cell_type": "code",
   "execution_count": null,
   "metadata": {},
   "outputs": [],
   "source": [
    "# filter data to keep only patients with disease duration information\n",
    "\n",
    "mask_patients= (df['Status']=='Patient')\n",
    "mask_length  = (~df['pdsl'].isnull()) \n",
    "\n",
    "df_cases = df[mask_patients & mask_length].reset_index(drop=True)\n",
    "del df\n",
    "\n",
    "df_cases[\"pdsl\"] = df_cases[\"pdsl\"].map({\"<=5\":'PD duration <=5 yrs', \">5\":'PD duration >5 yrs'})\n",
    "\n",
    "df_cases.shape"
   ]
  },
  {
   "cell_type": "code",
   "execution_count": null,
   "metadata": {},
   "outputs": [],
   "source": [
    "df_on = df_cases[df_cases['hyonoff']=='On'].reset_index(drop=True)\n",
    "\n",
    "df_on['Stage I-III']= df_on['hystage'].map({'Not severe':1, 'Severe':0})\n",
    "df_on['Stage IV-V'] = df_on['hystage'].map({'Not severe':0, 'Severe':1})\n",
    "df_on['UPDRS III-ON']= df_on['updrs_part_iii_total_score'].copy()\n",
    "\n",
    "variables = ['participant_id', 'pdsl', 'Stage I-III', 'Stage IV-V', 'UPDRS III-ON']\n",
    "\n",
    "stats_meas1 = {\n",
    "    'n': ['Stage I-III', 'Stage IV-V'],\n",
    "    'median' : ['UPDRS III-ON']\n",
    "}\n",
    "groups = ['PD duration <=5 yrs', 'PD duration >5 yrs']\n",
    "\n",
    "# keep only variables for analysis\n",
    "\n",
    "df_on = df_on[variables].copy()"
   ]
  },
  {
   "cell_type": "code",
   "execution_count": null,
   "metadata": {},
   "outputs": [],
   "source": [
    "df_off = df_cases[df_cases['hyonoff']=='Off'].reset_index(drop=True)\n",
    "\n",
    "df_off['Stage I-III']= df_off['hystage'].map({'Not severe':1, 'Severe':0})\n",
    "df_off['Stage IV-V'] = df_off['hystage'].map({'Not severe':0, 'Severe':1})\n",
    "df_off['UPDRS III-OFF']= df_off['updrs_part_iii_total_score'].copy()\n",
    "\n",
    "variables = ['participant_id', 'pdsl', 'Stage I-III', 'Stage IV-V', 'UPDRS III-OFF']\n",
    "\n",
    "stats_meas2 = {\n",
    "    'n': ['Stage I-III', 'Stage IV-V'],\n",
    "    'median' : ['UPDRS III-OFF']\n",
    "}\n",
    "\n",
    "# keep only variables for analysis\n",
    "\n",
    "df_off = df_off[variables].copy()"
   ]
  },
  {
   "cell_type": "code",
   "execution_count": null,
   "metadata": {},
   "outputs": [],
   "source": [
    "summary1 = [\n",
    "    two.report_proportion(\n",
    "        data_df    =df_off,\n",
    "        variables  =stats_meas2['n'],\n",
    "        groups     =groups,\n",
    "        grouping_by='pdsl',\n",
    "        subheader  ='H & Y OFF'\n",
    "        ),\n",
    "    two.report_proportion(\n",
    "        data_df    =df_on,\n",
    "        variables  =stats_meas1['n'],\n",
    "        groups     =groups,\n",
    "        grouping_by='pdsl',\n",
    "        subheader  ='H & Y ON'\n",
    "    ),\n",
    "    two.report_median_iqr(\n",
    "        data_df    =df_on,\n",
    "        variables  =stats_meas1['median'],\n",
    "        groups     =groups,\n",
    "        grouping_by='pdsl'\n",
    "    ),\n",
    "    two.report_median_iqr(\n",
    "        data_df    =df_off,\n",
    "        variables  =stats_meas2['median'],\n",
    "        groups     =groups,\n",
    "        grouping_by='pdsl'\n",
    "    )\n",
    "]"
   ]
  },
  {
   "cell_type": "code",
   "execution_count": null,
   "metadata": {},
   "outputs": [],
   "source": [
    "variables_dict = {\n",
    "    \"total_score_for_moca\": \"MOCA Score\",\n",
    "    \"total_score_for_bdi\" : \"BDI Score\",\n",
    "}\n",
    "variables_1 = ['participant_id', 'pdsl'] + list(variables_dict.keys())\n",
    "\n",
    "# statistical measures\n",
    "stats_meas3 = {\n",
    "    'mean'  : [\"MOCA Score\"],\n",
    "    'median': [\"BDI Score\"],\n",
    "}\n",
    "\n",
    "# keep only variables for analysis\n",
    "\n",
    "df_cases_1 = df_cases[variables_1].copy()\n",
    "df_cases_1 = df_cases_1.rename(columns=variables_dict)"
   ]
  },
  {
   "cell_type": "code",
   "execution_count": null,
   "metadata": {},
   "outputs": [],
   "source": [
    "summary2 = [ \n",
    "    two.report_mean_std(\n",
    "        data_df    =df_cases_1,\n",
    "        variables  =stats_meas3['mean'],\n",
    "        groups     =groups,\n",
    "        grouping_by='pdsl'\n",
    "    ),\n",
    "    two.report_median_iqr(\n",
    "        data_df    =df_cases_1,\n",
    "        variables  =stats_meas3['median'],\n",
    "        groups     =groups,\n",
    "        grouping_by='pdsl'\n",
    "    )\n",
    "]"
   ]
  },
  {
   "cell_type": "code",
   "execution_count": null,
   "metadata": {},
   "outputs": [],
   "source": [
    "df_10 = pd.concat(\n",
    "    summary1 + summary2, axis=0, ignore_index=True\n",
    ")\n",
    "df_10 = two.final_formatter(df_10, groups)\n",
    "\n",
    "df_10.to_csv(os.path.join(path_to_lib, 'data/auxiliar/aux_table_10.csv'), index=False)\n",
    "df_10"
   ]
  }
 ],
 "metadata": {
  "kernelspec": {
   "display_name": ".venv",
   "language": "python",
   "name": "python3"
  },
  "language_info": {
   "codemirror_mode": {
    "name": "ipython",
    "version": 3
   },
   "file_extension": ".py",
   "mimetype": "text/x-python",
   "name": "python",
   "nbconvert_exporter": "python",
   "pygments_lexer": "ipython3",
   "version": "3.12.4"
  }
 },
 "nbformat": 4,
 "nbformat_minor": 2
}
