{
 "cells": [
  {
   "cell_type": "markdown",
   "metadata": {},
   "source": [
    "# Comparison between patients and controls\n",
    "\n",
    "In this notebook we made the analysis for matched data according to `sex` and `age_at_onset` variables. The summary statistics compare patients and controls. "
   ]
  },
  {
   "cell_type": "code",
   "execution_count": null,
   "metadata": {},
   "outputs": [],
   "source": [
    "def get_library_path()->str:\n",
    "\n",
    "    cwd = os.getcwd()\n",
    "    lst = cwd.split(os.sep)[:-1]\n",
    "\n",
    "    path_lib = f'{os.sep}'\n",
    "\n",
    "    for elem in lst:\n",
    "        path_lib = os.path.join(path_lib, elem)\n",
    "\n",
    "    return path_lib\n",
    "\n",
    "# imports\n",
    "\n",
    "import os\n",
    "import sys\n",
    "\n",
    "path_to_lib = get_library_path()\n",
    "\n",
    "sys.path.append(path_to_lib)\n",
    "import luxgiant_clinical.TwoCatAnalysis as two\n",
    "from luxgiant_clinical.Helpers import categories_recoder\n",
    "\n",
    "import pandas as pd\n",
    "import numpy as np"
   ]
  },
  {
   "cell_type": "code",
   "execution_count": null,
   "metadata": {},
   "outputs": [],
   "source": [
    "# load data\n",
    "\n",
    "folder_path = os.path.join(path_to_lib, 'data/source')\n",
    "\n",
    "df = pd.read_csv(\n",
    "    os.path.join(folder_path, 'cleaned_file.csv'), \n",
    "    low_memory=False\n",
    ")\n",
    "matched_ids = pd.read_csv(\n",
    "    os.path.join(folder_path, 'matched_ids.csv'), \n",
    "    low_memory=False\n",
    ")\n",
    "df = df.merge(matched_ids, on='participant_id')"
   ]
  },
  {
   "cell_type": "markdown",
   "metadata": {},
   "source": [
    "## Summary statistics for demography and lifestyle"
   ]
  },
  {
   "cell_type": "code",
   "execution_count": null,
   "metadata": {},
   "outputs": [],
   "source": [
    "# rename and select first group of variables\n",
    "\n",
    "variables_dict_1 = {\n",
    "    \"age\"                       : \"Age at Recruitment (years)\",\n",
    "    \"age_at_onset\"              : \"Age at Onset (years)\" ,\n",
    "    \"bmi_comp\"                  : \"Body Mass Index\",\n",
    "    \"PD_duration\"               : \"Duration of Disease (years)\",\n",
    "    \"years_of_education\"        : \"Years of Education\",\n",
    "    \"agecat_1\"                  : \"Onset <50 years\" ,\n",
    "    \"agecat_2\"                  : \"Onset <40 years\",\n",
    "    \"work\"                      : \"Currently Employed\",\n",
    "    \"reason\"                    : \"PD-related Reason for Stop Working\",\n",
    "    \"nature_of_work___1\"        : \"Agriculture as a job\",\n",
    "    \"over_your_lifetime_have_yo\": \"Life time direct exposure to pesticide/insecticide/fungicide\",\n",
    "    \"during_your_lifetime_did_y\": \"Exposure to chemicals to kill insects in your life time\",\n",
    "    \"in_your_lifetime_have_you\" : \"Smoked 100 or more cigarettes in lifetime\",\n",
    "    \"in_your_lifetime_have\"     : \"Regular consumption of caffeinated drinks for >6months\",\n",
    "    \"have_you_ever_had_a_head_i\": \"Head injury or concussion\",\n",
    "}\n",
    "variables_1 = ['participant_id', 'Status'] + list(variables_dict_1.keys())\n",
    "\n",
    "# statistical measures\n",
    "stats_meas = {\n",
    "    'mean'  : [\"Age at Recruitment (years)\", \"Age at Onset (years)\", \"Body Mass Index\"],\n",
    "    'n'     : [\"Onset <50 years\", \"Onset <40 years\", \"Currently Employed\", \"PD-related Reason for Stop Working\", \n",
    "               \"Agriculture as a job\", \"Life time direct exposure to pesticide/insecticide/fungicide\", \n",
    "               \"Exposure to chemicals to kill insects in your life time\", \"Smoked 100 or more cigarettes in lifetime\", \n",
    "               \"Regular consumption of caffeinated drinks for >6months\", \"Head injury or concussion\"],\n",
    "    'median': [\"Duration of Disease (years)\", \"Years of Education\"]\n",
    "}\n",
    "\n",
    "groups = ['Patient', 'Control']"
   ]
  },
  {
   "cell_type": "code",
   "execution_count": null,
   "metadata": {},
   "outputs": [],
   "source": [
    "# keep only variables for analysis\n",
    "\n",
    "df_1 = df[variables_1].copy()\n",
    "df_1 = df_1.rename(columns=variables_dict_1)"
   ]
  },
  {
   "cell_type": "code",
   "execution_count": null,
   "metadata": {},
   "outputs": [],
   "source": [
    "mask_control = (df_1['Status']=='Control')\n",
    "\n",
    "df_1.loc[mask_control, \"Age at Onset (years)\"] = df_1.loc[mask_control, \"Age at Recruitment (years)\"]"
   ]
  },
  {
   "cell_type": "code",
   "execution_count": null,
   "metadata": {},
   "outputs": [],
   "source": [
    "# recode variable values\n",
    "\n",
    "recode_dict = {\n",
    "    \"Currently Employed\"                :{'Yes':1, 'No':0},\n",
    "    \"Agriculture as a job\"              :{'Checked':1, 'Unchecked':0},\n",
    "    \"Onset <50 years\"                   :{'<50':1, '>=50':0},\n",
    "    \"Onset <40 years\"                   :{'<40':1, '>=40':0},\n",
    "    \"PD-related Reason for Stop Working\":{'PD related':1, 'not PD related':0}\n",
    "}\n",
    "for key in recode_dict.keys():\n",
    "    df_1 = categories_recoder(df_1, [key], recode_dict[key])\n",
    "\n",
    "recode = [\"Life time direct exposure to pesticide/insecticide/fungicide\", \n",
    "          \"Exposure to chemicals to kill insects in your life time\", \"Smoked 100 or more cigarettes in lifetime\",\n",
    "          \"Regular consumption of caffeinated drinks for >6months\", \"Head injury or concussion\"]\n",
    "mapping = {'Yes':1, 'No':0, 'Dont Know':np.nan, 'Refused':np.nan, 'Possibly':np.nan}\n",
    "\n",
    "df_1 = categories_recoder(df_1, recode, mapping)"
   ]
  },
  {
   "cell_type": "code",
   "execution_count": null,
   "metadata": {},
   "outputs": [],
   "source": [
    "summary = [\n",
    "    two.report_mean_std(\n",
    "        data_df    =df_1,\n",
    "        variables  =stats_meas['mean'],\n",
    "        groups     =groups,\n",
    "        grouping_by='Status'\n",
    "    ),\n",
    "    two.report_median_iqr(\n",
    "        data_df    =df_1,\n",
    "        variables  =stats_meas['median'],\n",
    "        groups     =groups,\n",
    "        grouping_by='Status'\n",
    "    ),\n",
    "    two.report_proportion(\n",
    "        data_df    =df_1,\n",
    "        variables  =stats_meas['n'],\n",
    "        groups     =groups,\n",
    "        grouping_by='Status'\n",
    "    )\n",
    "]"
   ]
  },
  {
   "cell_type": "markdown",
   "metadata": {},
   "source": [
    "# Analysis of patients medical history"
   ]
  },
  {
   "cell_type": "code",
   "execution_count": null,
   "metadata": {},
   "outputs": [],
   "source": [
    "# rename and select second group of variables\n",
    "\n",
    "variables_dict_2 = {\n",
    "    \"medical_history_neurologic___7\": \"Stroke\",\n",
    "    \"medical_history_cancer___1\"    : \"Melanoma\" ,\n",
    "    \"medical_history_cancer___2\"    : \"Prostate Cancer\" ,\n",
    "    \"medical_history_cancer___3\"    : \"Other Cancers\",\n",
    "    \"medical_history_metabolic___1\" : \"Diabetes\",\n",
    "    \"medical_history_metabolic___3\" : \"High Cholesterol\",\n",
    "    \"medical_history_cardiovasc___2\": \"Hypertension\",\n",
    "    \"medical_history_cardiovasc___3\": \"History of CAD\",\n",
    "    \"medical_history_psychologi___1\": \"History of Anxiety\",\n",
    "    \"medical_history_psychologi___3\": \"History of Depression\",\n",
    "    \"family_member_diagnosed_wi\"    : \"Family History of PD\",\n",
    "    \"family_member_diagnosed_wi_2\"  : \"Family History of Tremor\",\n",
    "    \"family_member_diagnosed\"       : \"Family History of Dementia\"\n",
    "}\n",
    "variables_2 = ['participant_id', 'Status'] + list(variables_dict_2.keys())\n",
    "\n",
    "# statistical measures\n",
    "stats_meas2 = {\n",
    "    'n'     : [\"Stroke\", \"Melanoma\", \"Prostate Cancer\", \"Other Cancers\", \"Diabetes\", \"High Cholesterol\", \"Hypertension\",\n",
    "               \"History of CAD\", \"History of Anxiety\", \"History of Depression\", \"Family History of PD\", \"Family History of Tremor\", \"Family History of Dementia\"]\n",
    "}"
   ]
  },
  {
   "cell_type": "code",
   "execution_count": null,
   "metadata": {},
   "outputs": [],
   "source": [
    "# keep only variables for analysis\n",
    "\n",
    "df_2 = df[variables_2].copy()\n",
    "df_2 = df_2.rename(columns=variables_dict_2)"
   ]
  },
  {
   "cell_type": "code",
   "execution_count": null,
   "metadata": {},
   "outputs": [],
   "source": [
    "# recode variable values\n",
    "\n",
    "fam_hist = [\"Family History of PD\", \"Family History of Tremor\", \"Family History of Dementia\"]\n",
    "remaining= [feat for feat in stats_meas2['n'] if feat not in fam_hist]\n",
    "\n",
    "df_2 = categories_recoder(df_2, fam_hist, {\"Yes\":1, \"No\":0})\n",
    "df_2 = categories_recoder(df_2, remaining, {\"Checked\":1, \"Unchecked\":0})"
   ]
  },
  {
   "cell_type": "code",
   "execution_count": null,
   "metadata": {},
   "outputs": [],
   "source": [
    "# count and proportion of categorical variables\n",
    "\n",
    "df_sum4 = two.report_proportion(\n",
    "    data_df    =df_2,\n",
    "    variables  =stats_meas2['n'],\n",
    "    groups     =groups,\n",
    "    grouping_by='Status',\n",
    "    subheader  ='Medical History'\n",
    ")"
   ]
  },
  {
   "cell_type": "code",
   "execution_count": null,
   "metadata": {},
   "outputs": [],
   "source": [
    "# save result in csv file\n",
    "\n",
    "df_4 = pd.concat(summary + [df_sum4], axis=0,ignore_index=True)\n",
    "\n",
    "df_4 = two.final_formatter(df_4, groups)\n",
    "\n",
    "mask1 = df_4['Variable'].apply( lambda x: \"Family\" in x)\n",
    "mask2 = (df_4['Variable']=='PD-related Reason for Stop Working')\n",
    "\n",
    "df_4.loc[mask1, 'p-value'] = ''\n",
    "df_4.loc[mask2, 'p-value'] = ''\n",
    "\n",
    "df_4.to_csv(os.path.join(path_to_lib, 'data/auxiliar/aux_table_4.csv'), index=False)\n",
    "df_4"
   ]
  }
 ],
 "metadata": {
  "kernelspec": {
   "display_name": ".venv",
   "language": "python",
   "name": "python3"
  },
  "language_info": {
   "codemirror_mode": {
    "name": "ipython",
    "version": 3
   },
   "file_extension": ".py",
   "mimetype": "text/x-python",
   "name": "python",
   "nbconvert_exporter": "python",
   "pygments_lexer": "ipython3",
   "version": "3.12.7"
  }
 },
 "nbformat": 4,
 "nbformat_minor": 2
}
