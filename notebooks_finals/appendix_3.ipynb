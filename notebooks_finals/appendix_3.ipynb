{
 "cells": [
  {
   "cell_type": "markdown",
   "metadata": {},
   "source": [
    "# Appendix 3\n",
    "\n",
    "In order to give a more compact summary of the obtained result we merge Table 5 and Table 9."
   ]
  },
  {
   "cell_type": "code",
   "execution_count": null,
   "metadata": {},
   "outputs": [],
   "source": [
    "def get_library_path()->str:\n",
    "\n",
    "    cwd = os.getcwd()\n",
    "    lst = cwd.split(os.sep)[:-1]\n",
    "\n",
    "    path_lib = f'{os.sep}'\n",
    "\n",
    "    for elem in lst:\n",
    "        path_lib = os.path.join(path_lib, elem)\n",
    "\n",
    "    return path_lib\n",
    "\n",
    "# imports\n",
    "\n",
    "import os\n",
    "\n",
    "import pandas as pd\n",
    "\n",
    "path_to_lib = get_library_path()"
   ]
  },
  {
   "cell_type": "code",
   "execution_count": null,
   "metadata": {},
   "outputs": [],
   "source": [
    "# load data\n",
    "\n",
    "df_5 = pd.read_csv(\n",
    "    os.path.join(path_to_lib, 'data/auxiliar/aux_table_5.csv')\n",
    ")\n",
    "df_5 = df_5.fillna('')\n",
    "\n",
    "df_9 = pd.read_csv(\n",
    "    os.path.join(path_to_lib, 'data/auxiliar/aux_table_9.csv')\n",
    ")\n",
    "df_9 = df_9.drop(columns='Statistical Measure', inplace=False).fillna('')"
   ]
  },
  {
   "cell_type": "markdown",
   "metadata": {},
   "source": [
    "We will use multi-level columns for each one of the data frames in order to give a clearer exposition after the merge of both tables."
   ]
  },
  {
   "cell_type": "code",
   "execution_count": null,
   "metadata": {},
   "outputs": [],
   "source": [
    "# create multi-level columns for Table 5\n",
    "\n",
    "multi_index_5 = pd.MultiIndex.from_tuples([\n",
    "    ('', 'Variables'),\n",
    "    ('', 'Statistical Measure'),\n",
    "    ('Early/Late Onset', 'Age at onset <50 years'), \n",
    "    ('Early/Late Onset', 'Age at onset >=50 years'),\n",
    "    ('Early/Late Onset', 'p-value'),\n",
    "    ('Early/Late Onset', 'Total'),\n",
    "    ('Early/Late Onset', 'Available Samples for Analysis')\n",
    "])\n",
    "df_5.columns = multi_index_5"
   ]
  },
  {
   "cell_type": "code",
   "execution_count": null,
   "metadata": {},
   "outputs": [],
   "source": [
    "# create multi-level columns for Table 9\n",
    "\n",
    "multi_index_9 = pd.MultiIndex.from_tuples([\n",
    "    ('', 'Variables'), \n",
    "    ('PD Duration Comp', 'PD duration <=5 yrs'), \n",
    "    ('PD Duration Comp', 'PD duration >5 yrs'),\n",
    "    ('PD Duration Comp', 'p-value'),\n",
    "    ('PD Duration Comp', 'Total'),\n",
    "    ('PD Duration Comp', 'Available Samples for Analysis')\n",
    "])\n",
    "df_9.columns = multi_index_9"
   ]
  },
  {
   "cell_type": "code",
   "execution_count": null,
   "metadata": {},
   "outputs": [],
   "source": [
    "# merge  and save both dataframes\n",
    "\n",
    "df_mrg = pd.merge(df_5, df_9, on=[('', 'Variables')], how='right', sort=False).fillna('')\n",
    "\n",
    "df_mrg.to_csv(os.path.join(path_to_lib, 'data/final/appendix_3.csv'), index=False)\n",
    "df_mrg"
   ]
  }
 ],
 "metadata": {
  "kernelspec": {
   "display_name": ".venv",
   "language": "python",
   "name": "python3"
  },
  "language_info": {
   "codemirror_mode": {
    "name": "ipython",
    "version": 3
   },
   "file_extension": ".py",
   "mimetype": "text/x-python",
   "name": "python",
   "nbconvert_exporter": "python",
   "pygments_lexer": "ipython3",
   "version": "3.12.7"
  }
 },
 "nbformat": 4,
 "nbformat_minor": 2
}
