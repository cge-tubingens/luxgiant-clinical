{
 "cells": [
  {
   "cell_type": "markdown",
   "metadata": {},
   "source": [
    "# Appendix 1"
   ]
  },
  {
   "cell_type": "code",
   "execution_count": null,
   "metadata": {},
   "outputs": [],
   "source": [
    "def get_library_path()->str:\n",
    "\n",
    "    cwd = os.getcwd()\n",
    "    lst = cwd.split(os.sep)[:-1]\n",
    "\n",
    "    path_lib = f'{os.sep}'\n",
    "\n",
    "    for elem in lst:\n",
    "        path_lib = os.path.join(path_lib, elem)\n",
    "\n",
    "    return path_lib\n",
    "\n",
    "# imports\n",
    "\n",
    "import os\n",
    "\n",
    "import pandas as pd\n",
    "\n",
    "path_to_lib = get_library_path()"
   ]
  },
  {
   "cell_type": "code",
   "execution_count": null,
   "metadata": {},
   "outputs": [],
   "source": [
    "# load data\n",
    "\n",
    "df_1 = pd.read_csv(\n",
    "    os.path.join(path_to_lib, 'data/auxiliar/aux_table_1.csv')\n",
    ")\n",
    "df_1 = df_1.fillna('')\n",
    "\n",
    "df_4 = pd.read_csv(\n",
    "    os.path.join(path_to_lib, 'data/auxiliar/aux_table_4.csv')\n",
    ")\n",
    "df_4 = df_4.drop(columns='Statistical Measure', inplace=False).fillna('')"
   ]
  },
  {
   "cell_type": "markdown",
   "metadata": {},
   "source": [
    "We will use multi-level columns for each one of the data frames in order to give a clearer exposition after the merge of both tables."
   ]
  },
  {
   "cell_type": "code",
   "execution_count": null,
   "metadata": {},
   "outputs": [],
   "source": [
    "multi_index_1 = pd.MultiIndex.from_tuples(\n",
    "    [('', 'Variables'),\n",
    "     ('', 'Statistical Measure'),\n",
    "     ('Whole PD Cohort', 'Male'), \n",
    "     ('Whole PD Cohort', 'Female'),\n",
    "     ('Whole PD Cohort', 'p-value'),\n",
    "     ('Whole PD Cohort', 'Total'),\n",
    "     ('Whole PD Cohort', 'Available Samples for Analysis')]\n",
    ")\n",
    "df_1.columns = multi_index_1"
   ]
  },
  {
   "cell_type": "code",
   "execution_count": null,
   "metadata": {},
   "outputs": [],
   "source": [
    "multi_index_4 = pd.MultiIndex.from_tuples(\n",
    "    [('', 'Variables'), \n",
    "     ('Sex Matched Cohort', 'Patient'), \n",
    "     ('Sex Matched Cohort', 'Control'),\n",
    "     ('Sex Matched Cohort', 'p-value'),\n",
    "     ('Sex Matched Cohort', 'Total'),\n",
    "     ('Sex Matched Cohort', 'Available Samples for Analysis')]\n",
    ")\n",
    "df_4.columns = multi_index_4"
   ]
  },
  {
   "cell_type": "code",
   "execution_count": null,
   "metadata": {},
   "outputs": [],
   "source": [
    "# merge  and save both dataframes\n",
    "\n",
    "df_mrg = pd.merge(df_1, df_4, on=[('', 'Variables')], how='left').fillna('')\n",
    "\n",
    "df_mrg.to_csv(\n",
    "    os.path.join(path_to_lib, 'data/final/appendix_1.csv')\n",
    ")\n",
    "df_mrg"
   ]
  }
 ],
 "metadata": {
  "kernelspec": {
   "display_name": ".venv",
   "language": "python",
   "name": "python3"
  },
  "language_info": {
   "codemirror_mode": {
    "name": "ipython",
    "version": 3
   },
   "file_extension": ".py",
   "mimetype": "text/x-python",
   "name": "python",
   "nbconvert_exporter": "python",
   "pygments_lexer": "ipython3",
   "version": "3.12.7"
  }
 },
 "nbformat": 4,
 "nbformat_minor": 2
}
