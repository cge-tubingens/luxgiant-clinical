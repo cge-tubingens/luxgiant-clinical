{
 "cells": [
  {
   "cell_type": "markdown",
   "metadata": {},
   "source": [
    "# Appendix 2\n",
    "\n",
    "In this notebook we will make a comparison for PD with respect to PD subtypes, taking into account motor and non motor symptoms."
   ]
  },
  {
   "cell_type": "code",
   "execution_count": null,
   "metadata": {},
   "outputs": [],
   "source": [
    "def get_library_path()->str:\n",
    "\n",
    "    cwd = os.getcwd()\n",
    "    lst = cwd.split(os.sep)[:-1]\n",
    "\n",
    "    path_lib = f'{os.sep}'\n",
    "\n",
    "    for elem in lst:\n",
    "        path_lib = os.path.join(path_lib, elem)\n",
    "\n",
    "    return path_lib\n",
    "\n",
    "# imports\n",
    "\n",
    "import os\n",
    "import sys\n",
    "\n",
    "path_to_lib = get_library_path()\n",
    "\n",
    "sys.path.append(path_to_lib)\n",
    "import luxgiant_clinical.ThreeCatAnalysis as thr\n",
    "from luxgiant_clinical.Helpers import categories_recoder\n",
    "\n",
    "import pandas as pd"
   ]
  },
  {
   "cell_type": "code",
   "execution_count": null,
   "metadata": {},
   "outputs": [],
   "source": [
    "# load data\n",
    "\n",
    "folder_path = os.path.join(path_to_lib, 'data/source')\n",
    "\n",
    "df = pd.read_csv(\n",
    "    os.path.join(folder_path, 'cleaned_file.csv'), \n",
    "    low_memory=False\n",
    ")"
   ]
  },
  {
   "cell_type": "code",
   "execution_count": null,
   "metadata": {},
   "outputs": [],
   "source": [
    "# filter data to keep only patients with age at onset information\n",
    "\n",
    "mask_patients= (df['Status']=='Patient')\n",
    "mask_subtype = ~df['subtype'].isnull()\n",
    "mask_off     = (df['on_off']=='OFF: Off is the typical functional state when patien ts have a poor response in spite of taking medications.')\n",
    "\n",
    "df_cases = df[mask_patients & mask_off & mask_subtype].reset_index(drop=True)\n",
    "del df\n",
    "\n",
    "df_cases.shape"
   ]
  },
  {
   "cell_type": "code",
   "execution_count": null,
   "metadata": {},
   "outputs": [],
   "source": [
    "# rename and select first group of variables\n",
    "\n",
    "variables_dict = {\n",
    "    \"initial_motor_symptom_s___1\"   : \"Onset with motor symptoms\",\n",
    "    \"initial_motor_symptom_s___2\"   : \"Rest tremor as onset symptom\" ,\n",
    "    \"initial_motor_symptom_s___3\"   : \"Postural/action tremor at onset\",\n",
    "    \"initial_motor_symptom_s___12\"  : \"Bradykinesia as onset symptom\" ,\n",
    "    \"initial_motor_symptom_s___11\"  : \"Reduced arm swing at onset\",\n",
    "    \"initial_motor_symptom_s___13\"  : \"Rigidity as onset symptom\",\n",
    "    \"initial_non_motor_symptom___1\" : \"Non Motor Symp at onset\",\n",
    "    \"initial_non_motor_symptom___18\": \"Constipation at onset\",\n",
    "    \"initial_non_motor_symptom___8\" : \"Insomnia as onset symptom\",\n",
    "    \"initial_non_motor_symptom___4\" : \"RBD at onset\",\n",
    "    \"initial_non_motor_symptom___20\": \"Urinary urgency as onset symptom\",\n",
    "    \"initial_non_motor_symptom___13\": \"Hyperhidrosis as onset symptom\",\n",
    "    \"initial_non_motor_symptom___10\": \"Anosmia/hyposmia as onset symptom\",\n",
    "    \"initial_non_motor_symptom___2\" : \"Cognitive symptoms at onset\",\n",
    "    \"current_motor_symptom_s___2\"   : \"Current rest tremor\",\n",
    "    \"current_motor_symptom_s___3\"   : \"Current postural/action tremor\",\n",
    "    \"current_motor_symptom_s___14\"  : \"Current bradykinesia\",\n",
    "    \"current_motor_symptom_s___4\"   : \"Current rigidity\",\n",
    "    \"current_non_motor_symptom___3\" : \"Current NMS Psychosis\",\n",
    "    \"current_non_motor_symptom___5\" : \"Current depression\",\n",
    "    \"current_non_motor_symptom___6\" : \"Current RBD\",\n",
    "    \"current_non_motor_symptom___7\" : \"Current RLS\",\n",
    "    \"current_non_motor_symptom___9\" : \"Current anosmia/hyposmia\",\n",
    "    \"current_non_motor_symptom___2\" : \"Current cognitive impairment\",\n",
    "    \"current_non_motor_symptom___10\": \"Current EDSS\",\n",
    "    \"current_non_motor_symptom___11\": \"Current insomnia\",\n",
    "    \"current_non_motor_symptom___14\": \"Current orthostasis\",\n",
    "    \"current_non_motor_symptom___16\": \"Current hyperhidrosis\",\n",
    "    \"current_non_motor_symptom___17\": \"Current seborrhea\",\n",
    "    \"current_non_motor_symptom___20\": \"Current constipation\",\n",
    "    \"current_non_motor_symptom___22\": \"Current urinary incontinence\"\n",
    "}\n",
    "variables = ['participant_id', 'subtype'] + list(variables_dict.keys())\n",
    "\n",
    "# statistical measures\n",
    "stats_meas = {\n",
    "    'n'     : [\"Onset with motor symptoms\", \"Rest tremor as onset symptom\" , \"Postural/action tremor at onset\",\n",
    "               \"Bradykinesia as onset symptom\" , \"Reduced arm swing at onset\", \"Rigidity as onset symptom\",\n",
    "               \"Non Motor Symp at onset\", \"Constipation at onset\", \"Insomnia as onset symptom\", \"RBD at onset\",\n",
    "               \"Urinary urgency as onset symptom\", \"Hyperhidrosis as onset symptom\", \"Anosmia/hyposmia as onset symptom\",\n",
    "               \"Cognitive symptoms at onset\", \"Current rest tremor\", \"Current postural/action tremor\",\n",
    "               \"Current bradykinesia\", \"Current rigidity\", \"Current NMS Psychosis\", \"Current depression\", \"Current RBD\",\n",
    "               \"Current RLS\", \"Current anosmia/hyposmia\", \"Current cognitive impairment\", \"Current EDSS\",\n",
    "               \"Current insomnia\", \"Current orthostasis\", \"Current hyperhidrosis\", \"Current seborrhea\",\n",
    "               \"Current constipation\", \"Current urinary incontinence\"],\n",
    "    }\n",
    "\n",
    "groups = ['Tremor Dominant', 'Indeterminate', 'Postural instability and gait difficulty']"
   ]
  },
  {
   "cell_type": "code",
   "execution_count": null,
   "metadata": {},
   "outputs": [],
   "source": [
    "# keep only variables for analysis\n",
    "\n",
    "df_cases_1 = df_cases[variables].copy()\n",
    "df_cases_1 = df_cases_1.rename(columns=variables_dict)\n",
    "\n",
    "del df_cases\n",
    "\n",
    "df_cases_1.shape"
   ]
  },
  {
   "cell_type": "code",
   "execution_count": null,
   "metadata": {},
   "outputs": [],
   "source": [
    "# recode variable values\n",
    "\n",
    "# recode variable values\n",
    "motor_non_motor = [\"Onset with motor symptoms\"]\n",
    "remainig = [feat for feat in stats_meas['n'] if feat not in motor_non_motor]\n",
    "\n",
    "df_cases_1 = categories_recoder(df_cases_1, motor_non_motor, {\"Checked\":0, \"Unchecked\":1})\n",
    "df_cases_1 = categories_recoder(df_cases_1, remainig, {\"Checked\":1, \"Unchecked\":0})"
   ]
  },
  {
   "cell_type": "code",
   "execution_count": null,
   "metadata": {},
   "outputs": [],
   "source": [
    "# count and proportion of categorical variables\n",
    "\n",
    "df_8 = thr.report_proportion(\n",
    "    data_df    =df_cases_1,\n",
    "    variables  =stats_meas['n'],\n",
    "    groups     =groups,\n",
    "    grouping_by='subtype',\n",
    ")"
   ]
  },
  {
   "cell_type": "code",
   "execution_count": null,
   "metadata": {},
   "outputs": [],
   "source": [
    "df_cases_2 = df_cases_1[~(df_cases_1['subtype']=='Indeterminate')].reset_index(drop=True)"
   ]
  },
  {
   "cell_type": "code",
   "execution_count": null,
   "metadata": {},
   "outputs": [],
   "source": [
    "df_81 = thr.bonferroni_proportions(\n",
    "        data_df      =df_cases_2, \n",
    "        variables    =stats_meas['n'], \n",
    "        groups       =['Tremor Dominant',  'Postural instability and gait difficulty'],\n",
    "        grouping_by  ='subtype',\n",
    "        correc_factor=3\n",
    "    )"
   ]
  },
  {
   "cell_type": "code",
   "execution_count": null,
   "metadata": {},
   "outputs": [],
   "source": [
    "df_8 = thr.final_formatter(\n",
    "    overall_df =df_8,\n",
    "    adjusted_df=[df_81], \n",
    "    groups     =['Tremor Dominant', 'Indeterminate', 'Postural instability and gait difficulty']\n",
    ")"
   ]
  },
  {
   "cell_type": "code",
   "execution_count": null,
   "metadata": {},
   "outputs": [],
   "source": [
    "df_8.to_csv(os.path.join(path_to_lib, 'data/final/appendix_2.csv'), index=False)\n",
    "df_8"
   ]
  }
 ],
 "metadata": {
  "kernelspec": {
   "display_name": ".venv",
   "language": "python",
   "name": "python3"
  },
  "language_info": {
   "codemirror_mode": {
    "name": "ipython",
    "version": 3
   },
   "file_extension": ".py",
   "mimetype": "text/x-python",
   "name": "python",
   "nbconvert_exporter": "python",
   "pygments_lexer": "ipython3",
   "version": "3.12.7"
  }
 },
 "nbformat": 4,
 "nbformat_minor": 2
}
