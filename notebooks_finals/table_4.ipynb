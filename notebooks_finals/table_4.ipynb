{
 "cells": [
  {
   "cell_type": "code",
   "execution_count": null,
   "metadata": {},
   "outputs": [],
   "source": [
    "def get_library_path()->str:\n",
    "\n",
    "    cwd = os.getcwd()\n",
    "    lst = cwd.split(os.sep)[:-1]\n",
    "\n",
    "    path_lib = f'{os.sep}'\n",
    "\n",
    "    for elem in lst:\n",
    "        path_lib = os.path.join(path_lib, elem)\n",
    "\n",
    "    return path_lib\n",
    "\n",
    "# imports\n",
    "\n",
    "import os\n",
    "import sys\n",
    "\n",
    "path_to_lib = get_library_path()\n",
    "\n",
    "sys.path.append(path_to_lib)\n",
    "import luxgiant_clinical.OddRatios as odd\n",
    "\n",
    "import pandas as pd\n",
    "import numpy as np"
   ]
  },
  {
   "cell_type": "code",
   "execution_count": null,
   "metadata": {},
   "outputs": [],
   "source": [
    "# load data\n",
    "\n",
    "folder_path = os.path.join(path_to_lib, 'data/source')\n",
    "\n",
    "df = pd.read_csv(\n",
    "    os.path.join(folder_path, 'cleaned_file.csv'), \n",
    "    low_memory=False\n",
    ")\n",
    "matched_ids = pd.read_csv(\n",
    "    os.path.join(folder_path, 'matched_ids.csv'), \n",
    "    low_memory=False\n",
    ")\n",
    "matched = pd.read_csv(\n",
    "    os.path.join(folder_path, 'matching_ids.csv'), \n",
    "    low_memory=False\n",
    ")\n",
    "df = df.merge(matched_ids, on='participant_id')"
   ]
  },
  {
   "cell_type": "code",
   "execution_count": null,
   "metadata": {},
   "outputs": [],
   "source": [
    "# rename and select first group of variables\n",
    "\n",
    "variables_dict_1 = {\n",
    "    \"sex\"                           : \"Sex\",\n",
    "    \"age_at_onset\"                  : \"Age at Onset\",\n",
    "    \"nature_of_work___1\"            : \"Agricultural job\",\n",
    "    \"over_your_lifetime_have_yo\"    : \"Life time direct exposure to pesticide/insecticide/fungicide\",\n",
    "    \"in_your_lifetime_have_you\"     : \"Smoked 100 or more cigarettes\",\n",
    "    \"in_your_lifetime_have\"         : \"Regular consumption of caffeinated drinks for >6months\",\n",
    "    \"have_you_ever_had_a_head_i\"    : \"Head injury/concussion\",\n",
    "    \"medical_history_metabolic___1\" : \"Diabetes\",\n",
    "    \"medical_history_cardiovasc___2\": \"Hypertension\",\n",
    "    \"medical_history_cardiovasc___3\": \"History of CAD\",\n",
    "}\n",
    "variables_1 = ['participant_id', 'Status'] + list(variables_dict_1.keys())\n",
    "\n",
    "cofounders = [\n",
    "    \"Agricultural job\", \"Life time direct exposure to pesticide/insecticide/fungicide\",\n",
    "    \"Smoked 100 or more cigarettes\", \"Regular consumption of caffeinated drinks for >6months\",\n",
    "    \"Head injury/concussion\", \"Diabetes\", \"Hypertension\", \"History of CAD\"\n",
    "]"
   ]
  },
  {
   "cell_type": "code",
   "execution_count": null,
   "metadata": {},
   "outputs": [],
   "source": [
    "# keep only variables for analysis\n",
    "\n",
    "df_1 = df[variables_1].copy()\n",
    "df_1 = df_1.rename(columns=variables_dict_1)"
   ]
  },
  {
   "cell_type": "code",
   "execution_count": null,
   "metadata": {},
   "outputs": [],
   "source": [
    "# recode variable values\n",
    "\n",
    "df_1[\"Agricultural job\"]= df_1[\"Agricultural job\"].map({'Checked':1, 'Unchecked':0})\n",
    "df_1[\"Diabetes\"]        = df_1[\"Diabetes\"].map({\"Checked\":1, \"Unchecked\":0})\n",
    "df_1[\"Hypertension\"]    = df_1[\"Hypertension\"].map({\"Checked\":1, \"Unchecked\":0})\n",
    "df_1[\"History of CAD\"]  = df_1[\"History of CAD\"].map({\"Checked\":1, \"Unchecked\":0})\n",
    "\n",
    "df_1[\"Life time direct exposure to pesticide/insecticide/fungicide\"] = \\\n",
    "    df_1[\"Life time direct exposure to pesticide/insecticide/fungicide\"]\\\n",
    "        .map({'Yes':1, 'No':0, 'Dont Know':np.nan, 'Refused':np.nan})\n",
    "df_1[\"Smoked 100 or more cigarettes\"] = \\\n",
    "    df_1[\"Smoked 100 or more cigarettes\"]\\\n",
    "        .map({'Yes':1, 'No':0, 'Dont Know':np.nan, 'Refused':np.nan})\n",
    "df_1[\"Regular consumption of caffeinated drinks for >6months\"] = \\\n",
    "    df_1[\"Regular consumption of caffeinated drinks for >6months\"]\\\n",
    "        .map({'Yes':1, 'No':0, 'Dont Know':np.nan, 'Refused':np.nan})\n",
    "df_1[\"Head injury/concussion\"] = \\\n",
    "    df_1[\"Head injury/concussion\"].map({'Yes':1, 'No':0, 'Dont Know':np.nan, 'Refused':np.nan, 'Possibly':np.nan})"
   ]
  },
  {
   "cell_type": "code",
   "execution_count": null,
   "metadata": {},
   "outputs": [],
   "source": [
    "unadjusted_OR = odd.report_mcnemar(df_1, df_matched=matched, variables=cofounders, id_col=\"participant_id\")"
   ]
  },
  {
   "cell_type": "code",
   "execution_count": null,
   "metadata": {},
   "outputs": [],
   "source": [
    "adjusted_OR = odd.adjusted_odds_ratios(\n",
    "    data=df_1, \n",
    "    target='Status', \n",
    "    target_code={'Patient':1, 'Control':0},\n",
    "    variables=cofounders, \n",
    "    match_1='Sex',\n",
    "    match_2='Age at Onset'\n",
    ")"
   ]
  },
  {
   "cell_type": "code",
   "execution_count": null,
   "metadata": {},
   "outputs": [],
   "source": [
    "table_4 = pd.merge(unadjusted_OR, adjusted_OR, on='Variables')\n",
    "table_4.to_csv(os.path.join(path_to_lib, 'data/final/table_4.csv'))\n",
    "table_4"
   ]
  }
 ],
 "metadata": {
  "kernelspec": {
   "display_name": ".venv",
   "language": "python",
   "name": "python3"
  },
  "language_info": {
   "codemirror_mode": {
    "name": "ipython",
    "version": 3
   },
   "file_extension": ".py",
   "mimetype": "text/x-python",
   "name": "python",
   "nbconvert_exporter": "python",
   "pygments_lexer": "ipython3",
   "version": "3.12.4"
  }
 },
 "nbformat": 4,
 "nbformat_minor": 2
}
