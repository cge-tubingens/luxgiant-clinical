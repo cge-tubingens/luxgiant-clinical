{
 "cells": [
  {
   "cell_type": "markdown",
   "metadata": {},
   "source": [
    "# Final Table 2\n",
    "\n",
    "In order to give a more compact summary of the obtained results we merge the auxiliary tables 1, 5 and 7. "
   ]
  },
  {
   "cell_type": "code",
   "execution_count": null,
   "metadata": {},
   "outputs": [],
   "source": [
    "def get_library_path()->str:\n",
    "\n",
    "    cwd = os.getcwd()\n",
    "    lst = cwd.split(os.sep)[:-1]\n",
    "\n",
    "    path_lib = f'{os.sep}'\n",
    "\n",
    "    for elem in lst:\n",
    "        path_lib = os.path.join(path_lib, elem)\n",
    "\n",
    "    return path_lib\n",
    "\n",
    "# imports\n",
    "\n",
    "import os\n",
    "\n",
    "import pandas as pd\n",
    "\n",
    "path_to_lib = get_library_path()"
   ]
  },
  {
   "cell_type": "code",
   "execution_count": null,
   "metadata": {},
   "outputs": [],
   "source": [
    "# load data\n",
    "cols_to_drop = ['Available Samples for Analysis', 'Total']\n",
    "\n",
    "df_1 = pd.read_csv(\n",
    "    os.path.join(path_to_lib, 'data/auxiliar/aux_table_1.csv')\n",
    ")\n",
    "df_1 = df_1.fillna('').drop(columns=cols_to_drop, inplace=False)\n",
    "\n",
    "df_5 = pd.read_csv(\n",
    "    os.path.join(path_to_lib, 'data/auxiliar/aux_table_5.csv')\n",
    ")\n",
    "df_5 = df_5.drop(columns=cols_to_drop+['Statistical Measure'], inplace=False).fillna('')\n",
    "\n",
    "df_7 = pd.read_csv(\n",
    "    os.path.join(path_to_lib, 'data/auxiliar/aux_table_7.csv')\n",
    ")\n",
    "df_7 = df_7.drop(columns=cols_to_drop+['Statistical Measure'], inplace=False).fillna('')"
   ]
  },
  {
   "cell_type": "markdown",
   "metadata": {},
   "source": [
    "We will use multi-level columns for each one of the data frames in order to give a clearer exposition after the merge of both tables."
   ]
  },
  {
   "cell_type": "code",
   "execution_count": null,
   "metadata": {},
   "outputs": [],
   "source": [
    "# create multi-level columns for Table 2\n",
    "\n",
    "multi_index_1 = pd.MultiIndex.from_tuples(\n",
    "    [('', 'Variables'),\n",
    "     ('Gender Comp', 'Statistical Measure'),\n",
    "     ('Gender Comp', 'Male'), \n",
    "     ('Gender Comp', 'Female'),\n",
    "     ('Gender Comp', 'p-value')]\n",
    ")\n",
    "df_1.columns = multi_index_1"
   ]
  },
  {
   "cell_type": "code",
   "execution_count": null,
   "metadata": {},
   "outputs": [],
   "source": [
    "# create multi-level columns for Table 2\n",
    "\n",
    "multi_index_5 = pd.MultiIndex.from_tuples(\n",
    "    [('', 'Variables'),\n",
    "     ('Early/Late Onset Comp', 'Age at onset <50 years'), \n",
    "     ('Early/Late Onset Comp', 'Age at onset >=50 years'),\n",
    "     ('Early/Late Onset Comp', 'p-value')]\n",
    ")\n",
    "df_5.columns = multi_index_5"
   ]
  },
  {
   "cell_type": "code",
   "execution_count": null,
   "metadata": {},
   "outputs": [],
   "source": [
    "# create multi-level columns for Table 10\n",
    "\n",
    "multi_index_7 = pd.MultiIndex.from_tuples(\n",
    "    [('', 'Variables'), \n",
    "     ('Motor Subtype', 'PIGD'), \n",
    "     ('Motor Subtype', 'TD'),\n",
    "     ('Motor Subtype', 'ID'),\n",
    "     ('Motor Subtype', 'p-value'),\n",
    "     ('Motor Subtype', 'Adjusted p-value')]\n",
    ")\n",
    "df_7.columns = multi_index_7"
   ]
  },
  {
   "cell_type": "code",
   "execution_count": null,
   "metadata": {},
   "outputs": [],
   "source": [
    "# merge and save resulting table\n",
    "\n",
    "df_mrg = df_1\\\n",
    "    .merge(df_5, on=[('', 'Variables')], how='outer')\\\n",
    "    .merge(df_7, on=[('', 'Variables')], how='outer')\\\n",
    "    .fillna('')"
   ]
  },
  {
   "cell_type": "code",
   "execution_count": null,
   "metadata": {},
   "outputs": [],
   "source": [
    "row_order = [\n",
    "    \"Age at Onset (years)\", \"Onset <50 years\", \"Onset <40 years\", \"Age at Recruitment (years)\",\n",
    "    \"Duration of Disease (years)\", \"Male\", \"Body Mass Index\", \"Years of Education\", \"Currently Employed\",\n",
    "    \"Family History of PD\", \"Family History of Tremor\", \"Agriculture as a occupation\",\n",
    "    \"Life time direct exposure to pesticide/insecticide/fungicide\", \"Head injury or concussion\",\n",
    "    \"Smoked 100 or more cigarettes in lifetime\", \n",
    "    \"Regular consumption of caffeinated drinks for >6months\", \"Diabetes\", \"High Cholesterol\",\n",
    "    \"Hypertension\", \"History of CAD\", \"Stroke\", \"History of Depression\", \"History of Anxiety\",\n",
    "    \"Melanoma\", \"Prostate Cancer\" , \"Other Cancers\"\n",
    "]"
   ]
  },
  {
   "cell_type": "code",
   "execution_count": null,
   "metadata": {},
   "outputs": [],
   "source": [
    "df_final = pd.DataFrame(columns=df_mrg.columns)\n",
    "\n",
    "for row in row_order:\n",
    "    df_final = pd.concat(\n",
    "        [df_final, df_mrg[df_mrg[('','Variables')]==row]], axis=0, ignore_index=True\n",
    "    )\n",
    "\n",
    "df_final"
   ]
  },
  {
   "cell_type": "code",
   "execution_count": null,
   "metadata": {},
   "outputs": [],
   "source": [
    "df_final.to_csv(os.path.join(path_to_lib, 'data/final/Table_2.csv'), index=False)"
   ]
  }
 ],
 "metadata": {
  "kernelspec": {
   "display_name": ".venv",
   "language": "python",
   "name": "python3"
  },
  "language_info": {
   "codemirror_mode": {
    "name": "ipython",
    "version": 3
   },
   "file_extension": ".py",
   "mimetype": "text/x-python",
   "name": "python",
   "nbconvert_exporter": "python",
   "pygments_lexer": "ipython3",
   "version": "3.12.7"
  }
 },
 "nbformat": 4,
 "nbformat_minor": 2
}
