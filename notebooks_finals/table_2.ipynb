{
 "cells": [
  {
   "cell_type": "markdown",
   "metadata": {},
   "source": [
    "# Final Table 2\n",
    "\n",
    "In order to give a more compact summary of the obtained results we merge the auxiliary tables 3, 13 and 14. "
   ]
  },
  {
   "cell_type": "code",
   "execution_count": null,
   "metadata": {},
   "outputs": [],
   "source": [
    "def get_library_path()->str:\n",
    "\n",
    "    cwd = os.getcwd()\n",
    "    lst = cwd.split(os.sep)[:-1]\n",
    "\n",
    "    path_lib = f'{os.sep}'\n",
    "\n",
    "    for elem in lst:\n",
    "        path_lib = os.path.join(path_lib, elem)\n",
    "\n",
    "    return path_lib\n",
    "\n",
    "# imports\n",
    "\n",
    "import os\n",
    "\n",
    "import pandas as pd\n",
    "\n",
    "path_to_lib = get_library_path()"
   ]
  },
  {
   "cell_type": "code",
   "execution_count": null,
   "metadata": {},
   "outputs": [],
   "source": [
    "# load data\n",
    "\n",
    "df_3 = pd.read_csv(\n",
    "    os.path.join(path_to_lib, 'data/auxiliar/aux_table_3.csv')\n",
    ")\n",
    "df_3 = df_3.fillna('')\n",
    "\n",
    "df_13 = pd.read_csv(\n",
    "    os.path.join(path_to_lib, 'data/auxiliar/aux_table_13.csv')\n",
    ")\n",
    "df_13 = df_13.drop(columns='Statistical Measure', inplace=False).fillna('')\n",
    "\n",
    "df_14 = pd.read_csv(\n",
    "    os.path.join(path_to_lib, 'data/auxiliar/aux_table_14.csv')\n",
    ")\n",
    "df_14 = df_14.drop(columns='Statistical Measure', inplace=False).fillna('')"
   ]
  },
  {
   "cell_type": "markdown",
   "metadata": {},
   "source": [
    "We will use multi-level columns for each one of the data frames in order to give a clearer exposition after the merge of both tables."
   ]
  },
  {
   "cell_type": "code",
   "execution_count": null,
   "metadata": {},
   "outputs": [],
   "source": [
    "# create multi-level columns for Table 2\n",
    "\n",
    "multi_index_3 = pd.MultiIndex.from_tuples(\n",
    "    [('', 'Variables'),\n",
    "     ('Male/Female Comp', 'Statistical Measure'),\n",
    "     ('Male/Female Comp', 'Male'), \n",
    "     ('Male/Female Comp', 'Female'),\n",
    "     ('Male/Female Comp', 'p-value'),\n",
    "     ('Male/Female Comp', 'Total'),\n",
    "     ('Male/Female Comp', 'Available Samples for Analysis')]\n",
    ")\n",
    "df_3.columns = multi_index_3"
   ]
  },
  {
   "cell_type": "code",
   "execution_count": null,
   "metadata": {},
   "outputs": [],
   "source": [
    "# create multi-level columns for Table 2\n",
    "\n",
    "multi_index_13 = pd.MultiIndex.from_tuples(\n",
    "    [('', 'Variables'),\n",
    "     ('Early/Late Onset Comp', 'Age at onset <50 years'), \n",
    "     ('Early/Late Onset Comp', 'Age at onset >=50 years'),\n",
    "     ('Early/Late Onset Comp', 'p-value'),\n",
    "     ('Early/Late Onset Comp', 'Total'),\n",
    "     ('Early/Late Onset Comp', 'Available Samples for Analysis')]\n",
    ")\n",
    "df_13.columns = multi_index_13"
   ]
  },
  {
   "cell_type": "code",
   "execution_count": null,
   "metadata": {},
   "outputs": [],
   "source": [
    "# create multi-level columns for Table 10\n",
    "\n",
    "multi_index_14 = pd.MultiIndex.from_tuples(\n",
    "    [('', 'Variables'), \n",
    "     ('PD Duration Comp', 'PD duration <=5 yrs'), \n",
    "     ('PD Duration Comp', 'PD duration >5 yrs'),\n",
    "     ('PD Duration Comp', 'p-value'),\n",
    "     ('PD Duration Comp', 'Total'),\n",
    "     ('PD Duration Comp', 'Available Samples for Analysis')]\n",
    ")\n",
    "df_14.columns = multi_index_14"
   ]
  },
  {
   "cell_type": "code",
   "execution_count": null,
   "metadata": {},
   "outputs": [],
   "source": [
    "# merge and save resulting table\n",
    "\n",
    "df_mrg = pd.concat([df_3, df_13, df_14], axis=1)\n",
    "\n",
    "df_mrg.to_csv(os.path.join(path_to_lib, 'data/final/Table_2.csv'), index=False)\n",
    "\n",
    "df_mrg"
   ]
  }
 ],
 "metadata": {
  "kernelspec": {
   "display_name": ".venv",
   "language": "python",
   "name": "python3"
  },
  "language_info": {
   "codemirror_mode": {
    "name": "ipython",
    "version": 3
   },
   "file_extension": ".py",
   "mimetype": "text/x-python",
   "name": "python",
   "nbconvert_exporter": "python",
   "pygments_lexer": "ipython3",
   "version": "3.12.4"
  }
 },
 "nbformat": 4,
 "nbformat_minor": 2
}
