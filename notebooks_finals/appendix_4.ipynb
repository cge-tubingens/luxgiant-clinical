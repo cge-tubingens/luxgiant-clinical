{
 "cells": [
  {
   "cell_type": "markdown",
   "metadata": {},
   "source": [
    "# Appendix 4"
   ]
  },
  {
   "cell_type": "code",
   "execution_count": null,
   "metadata": {},
   "outputs": [],
   "source": [
    "def get_library_path()->str:\n",
    "\n",
    "    cwd = os.getcwd()\n",
    "    lst = cwd.split(os.sep)[:-1]\n",
    "\n",
    "    path_lib = f'{os.sep}'\n",
    "\n",
    "    for elem in lst:\n",
    "        path_lib = os.path.join(path_lib, elem)\n",
    "\n",
    "    return path_lib\n",
    "\n",
    "# imports\n",
    "\n",
    "import os\n",
    "import sys\n",
    "\n",
    "path_to_lib = get_library_path()\n",
    "\n",
    "sys.path.append(path_to_lib)\n",
    "\n",
    "import luxgiant_clinical.ThreeCatAnalysis as thr\n",
    "from luxgiant_clinical.Helpers import categories_recoder\n",
    "\n",
    "import pandas as pd\n",
    "import numpy as np"
   ]
  },
  {
   "cell_type": "code",
   "execution_count": null,
   "metadata": {},
   "outputs": [],
   "source": [
    "# load data\n",
    "\n",
    "folder_path = os.path.join(path_to_lib, 'data/source')\n",
    "\n",
    "df = pd.read_csv(\n",
    "    os.path.join(folder_path, 'cleaned_file.csv'), \n",
    "    low_memory=False\n",
    ")"
   ]
  },
  {
   "cell_type": "code",
   "execution_count": null,
   "metadata": {},
   "outputs": [],
   "source": [
    "# filter data to keep only patients with PD subtype information\n",
    "\n",
    "mask_patients= (df['Status']=='Patient')\n",
    "mask_agecat = ~df['age_category'].isnull()\n",
    "\n",
    "df_cases = df[mask_patients & mask_agecat].reset_index(drop=True)\n",
    "\n",
    "del df\n",
    "\n",
    "df_cases = df_cases[~(df_cases['age_category']=='Onset <21 years')].reset_index(drop=True)\n",
    "df_cases.shape"
   ]
  },
  {
   "cell_type": "code",
   "execution_count": null,
   "metadata": {},
   "outputs": [],
   "source": [
    "df_cases['age_category'].value_counts().reset_index()"
   ]
  },
  {
   "cell_type": "code",
   "execution_count": null,
   "metadata": {},
   "outputs": [],
   "source": [
    "# rename and select first group of variables\n",
    "variables_dict_1 = {\n",
    "    \"age\"                       : \"Age at Recruitment (years)\", \n",
    "    \"age_at_onset\"              : \"Age at Onset (years)\" ,      \n",
    "    \"sex\"                       : \"Male\" ,                      \n",
    "    \"PD_duration\"               : \"Duration of Disease (years)\",\n",
    "    \"years_of_education\"        : \"Years of Education\",         \n",
    "    \"bmi_comp\"                  : \"Body Mass Index\",            \n",
    "    \"reason\"                    : \"PD-related Reason for Stop Working\", \n",
    "    \"work\"                      : \"Currently Employed\",         \n",
    "    \"nature_of_work___1\"        : \"Agriculture as a job\",     \n",
    "    \"over_your_lifetime_have_yo\": \"Life time direct exposure to pesticide/insecticide/fungicide\",\n",
    "    \"in_your_lifetime_have_you\" : \"Smoked 100 or more cigarettes in lifetime\",\n",
    "    \"in_your_lifetime_have\"     : \"Regular consumption of caffeinated drinks for >6months\",\n",
    "    \"have_you_ever_had_a_head_i\": \"Head injury or concussion\",\n",
    "\n",
    "}\n",
    "variables_1 = ['participant_id', 'age_category'] + list(variables_dict_1.keys())\n",
    "\n",
    "# statistical measures\n",
    "stats_meas = {\n",
    "    'mean'  : [\"Age at Recruitment (years)\", \"Age at Onset (years)\", \"Body Mass Index\"],\n",
    "    'n'     : [\"Male\", \"Currently Employed\", \"PD-related Reason for Stop Working\", \"Agriculture as a job\", \n",
    "               \"Life time direct exposure to pesticide/insecticide/fungicide\", \n",
    "               \"Smoked 100 or more cigarettes in lifetime\", \"Regular consumption of caffeinated drinks for >6months\",\n",
    "               \"Head injury or concussion\"],\n",
    "    'median': [\"Duration of Disease (years)\", \"Years of Education\"]\n",
    "}\n",
    "\n",
    "groups = ['Onset 21-49 years', 'Onset 50-60 years', 'Onset >60 years']"
   ]
  },
  {
   "cell_type": "code",
   "execution_count": null,
   "metadata": {},
   "outputs": [],
   "source": [
    "# keep only variables for analysis\n",
    "\n",
    "df_cases_1 = df_cases[variables_1].copy()\n",
    "df_cases_1 = df_cases_1.rename(columns=variables_dict_1)"
   ]
  },
  {
   "cell_type": "code",
   "execution_count": null,
   "metadata": {},
   "outputs": [],
   "source": [
    "# recode variable values\n",
    "\n",
    "recode_dict = {\n",
    "    \"Currently Employed\"                :{'Yes':1, 'No':0},\n",
    "    \"Agriculture as a job\"              :{'Checked':1, 'Unchecked':0},\n",
    "    \"PD-related Reason for Stop Working\":{'PD related':1, 'not PD related':0},\n",
    "    \"Male\"                              :{'Male':1, 'Female':0}\n",
    "}\n",
    "for key in recode_dict.keys():\n",
    "    df_cases_1 = categories_recoder(df_cases_1, [key], recode_dict[key])\n",
    "\n",
    "recode = [\"Life time direct exposure to pesticide/insecticide/fungicide\", \n",
    "          \"Smoked 100 or more cigarettes in lifetime\",\n",
    "          \"Regular consumption of caffeinated drinks for >6months\", \"Head injury or concussion\"]\n",
    "mapping = {'Yes':1, 'No':0, 'Dont Know':np.nan, 'Refused':np.nan, 'Possibly':np.nan}\n",
    "\n",
    "df_cases_1 = categories_recoder(df_cases_1, recode, mapping)"
   ]
  },
  {
   "cell_type": "code",
   "execution_count": null,
   "metadata": {},
   "outputs": [],
   "source": [
    "summary = [\n",
    "    thr.report_mean_std(\n",
    "        data_df    =df_cases_1,\n",
    "        variables  =stats_meas['mean'],\n",
    "        groups     =groups,\n",
    "        grouping_by='age_category'\n",
    "    ),\n",
    "    thr.report_median_iqr(\n",
    "        data_df    =df_cases_1,\n",
    "        variables  =stats_meas['median'],\n",
    "        groups     =groups,\n",
    "        grouping_by='age_category'\n",
    "    ),\n",
    "    thr.report_proportion(\n",
    "        data_df    =df_cases_1,\n",
    "        variables  =stats_meas['n'],\n",
    "        groups     =groups,\n",
    "        grouping_by='age_category'\n",
    "    )\n",
    "]"
   ]
  },
  {
   "cell_type": "code",
   "execution_count": null,
   "metadata": {},
   "outputs": [],
   "source": [
    "# rename and select second group of variables\n",
    "\n",
    "variables_dict_2 = {\n",
    "    \"medical_history_neurologic___7\": \"Stroke\",\n",
    "    \"medical_history_cancer___1\"    : \"Melanoma\" ,\n",
    "    \"medical_history_cancer___2\"    : \"Prostate Cancer\" ,\n",
    "    \"medical_history_cancer___3\"    : \"Other Cancers\",\n",
    "    \"medical_history_metabolic___1\" : \"Diabetes\",\n",
    "    \"medical_history_metabolic___3\" : \"High Cholesterol\",\n",
    "    \"medical_history_cardiovasc___2\": \"Hypertension\",\n",
    "    \"medical_history_cardiovasc___3\": \"History of CAD\",\n",
    "    \"medical_history_psychologi___1\": \"History of Anxiety\",\n",
    "    \"medical_history_psychologi___3\": \"History of Depression\",\n",
    "    \"family_member_diagnosed_wi\"    : \"Family History of PD\",\n",
    "    \"family_member_diagnosed_wi_2\"  : \"Family History of Tremor\",\n",
    "    \"family_member_diagnosed\"       : \"Family History of Dementia\"\n",
    "}\n",
    "variables_2 = ['participant_id', 'age_category'] + list(variables_dict_2.keys())\n",
    "\n",
    "# statistical measures\n",
    "stats_meas2 = {\n",
    "    'n'     : [\"Stroke\", \"Melanoma\", \"Prostate Cancer\", \"Other Cancers\", \"Diabetes\", \"High Cholesterol\", \"Hypertension\",\n",
    "               \"History of CAD\", \"History of Anxiety\", \"History of Depression\", \"Family History of PD\", \"Family History of Tremor\", \"Family History of Dementia\"]\n",
    "}"
   ]
  },
  {
   "cell_type": "code",
   "execution_count": null,
   "metadata": {},
   "outputs": [],
   "source": [
    "# keep only variables for analysis\n",
    "\n",
    "df_cases_2 = df_cases[variables_2].copy()\n",
    "df_cases_2 = df_cases_2.rename(columns=variables_dict_2)"
   ]
  },
  {
   "cell_type": "code",
   "execution_count": null,
   "metadata": {},
   "outputs": [],
   "source": [
    "# recode variable values\n",
    "\n",
    "fam_hist = [\"Family History of PD\", \"Family History of Tremor\", \"Family History of Dementia\"]\n",
    "remaining= [feat for feat in stats_meas2['n'] if feat not in fam_hist]\n",
    "\n",
    "df_cases_2 = categories_recoder(df_cases_2, fam_hist, {\"Yes\":1, \"No\":0})\n",
    "df_cases_2 = categories_recoder(df_cases_2, remaining, {\"Checked\":1, \"Unchecked\":0})"
   ]
  },
  {
   "cell_type": "code",
   "execution_count": null,
   "metadata": {},
   "outputs": [],
   "source": [
    "# count and proportion of categorical variables\n",
    "\n",
    "df_sum4 = thr.report_proportion(\n",
    "    data_df    =df_cases_2,\n",
    "    variables  =stats_meas2['n'],\n",
    "    groups     =['Onset 21-49 years', 'Onset 50-60 years', 'Onset >60 years'],\n",
    "    grouping_by='age_category',\n",
    "    subheader  ='Medical History'\n",
    ")"
   ]
  },
  {
   "cell_type": "code",
   "execution_count": null,
   "metadata": {},
   "outputs": [],
   "source": [
    "# concatenate all results\n",
    "\n",
    "df_11 = pd.concat(\n",
    "    summary + [df_sum4], axis=0,ignore_index=True\n",
    ")"
   ]
  },
  {
   "cell_type": "code",
   "execution_count": null,
   "metadata": {},
   "outputs": [],
   "source": [
    "df_cases_3 = df_cases_1[~(df_cases_1['age_category']=='Onset 50-60 years')].reset_index(drop=True)\n",
    "df_cases_4 = df_cases_2[~(df_cases_2['age_category']=='Onset 50-60 years')].reset_index(drop=True)"
   ]
  },
  {
   "cell_type": "code",
   "execution_count": null,
   "metadata": {},
   "outputs": [],
   "source": [
    "summary1 = [\n",
    "    thr.bonferroni_mean_std(\n",
    "        data_df      =df_cases_3, \n",
    "        variables    =stats_meas['mean'], \n",
    "        groups       =['Onset 21-49 years', 'Onset >60 years'],\n",
    "        grouping_by  ='age_category',\n",
    "        correc_factor=3\n",
    "    ),\n",
    "    thr.bonferroni_median_iqr(\n",
    "        data_df      =df_cases_3, \n",
    "        variables    =stats_meas['median'], \n",
    "        groups       =['Onset 21-49 years', 'Onset >60 years'],\n",
    "        grouping_by  ='age_category',\n",
    "        correc_factor=3\n",
    "    ),\n",
    "    thr.bonferroni_proportions(\n",
    "        data_df      =df_cases_3, \n",
    "        variables    =stats_meas['n'], \n",
    "        groups       =['Onset 21-49 years', 'Onset >60 years'],\n",
    "        grouping_by  ='age_category',\n",
    "        correc_factor=3\n",
    "    ),\n",
    "    thr.bonferroni_proportions(\n",
    "        data_df    =df_cases_4,\n",
    "        variables  =stats_meas2['n'],\n",
    "        groups     =['Onset 21-49 years', 'Onset >60 years'],\n",
    "        grouping_by='age_category',\n",
    "        correc_factor=3,\n",
    "        subheader  ='Medical History'\n",
    "    )\n",
    "]\n",
    "\n",
    "# concatenate all results\n",
    "df_111 = pd.concat(\n",
    "    summary1, axis=0,ignore_index=True\n",
    ")\n",
    "df_111.columns = ['Variable', 'Adjusted p-value (Early vs Late)']"
   ]
  },
  {
   "cell_type": "code",
   "execution_count": null,
   "metadata": {},
   "outputs": [],
   "source": [
    "df_cases_5 = df_cases_1[~(df_cases_1['age_category']=='Onset >60 years')].reset_index(drop=True)\n",
    "df_cases_6 = df_cases_2[~(df_cases_2['age_category']=='Onset >60 years')].reset_index(drop=True)"
   ]
  },
  {
   "cell_type": "code",
   "execution_count": null,
   "metadata": {},
   "outputs": [],
   "source": [
    "summary2 = [\n",
    "    thr.bonferroni_mean_std(\n",
    "        data_df      =df_cases_5, \n",
    "        variables    =stats_meas['mean'], \n",
    "        groups       =['Onset 21-49 years', 'Onset 50-60 years'],\n",
    "        grouping_by  ='age_category',\n",
    "        correc_factor=3\n",
    "    ),\n",
    "    thr.bonferroni_median_iqr(\n",
    "        data_df      =df_cases_5, \n",
    "        variables    =stats_meas['median'], \n",
    "        groups       =['Onset 21-49 years', 'Onset 50-60 years'],\n",
    "        grouping_by  ='age_category',\n",
    "        correc_factor=3\n",
    "    ),\n",
    "    thr.bonferroni_proportions(\n",
    "        data_df      =df_cases_5, \n",
    "        variables    =stats_meas['n'], \n",
    "        groups       =['Onset 21-49 years', 'Onset 50-60 years'],\n",
    "        grouping_by  ='age_category',\n",
    "        correc_factor=3\n",
    "    ),\n",
    "    thr.bonferroni_proportions(\n",
    "        data_df    =df_cases_6,\n",
    "        variables  =stats_meas2['n'],\n",
    "        groups     =['Onset 21-49 years', 'Onset 50-60 years'],\n",
    "        grouping_by='age_category',\n",
    "        correc_factor=3,\n",
    "        subheader  ='Medical History'\n",
    "    )\n",
    "]\n",
    "\n",
    "# concatenate all results\n",
    "df_112 = pd.concat(\n",
    "    summary2, axis=0,ignore_index=True\n",
    ")\n",
    "df_112.columns = ['Variable', 'Adjusted p-value (Early vs Medium)']"
   ]
  },
  {
   "cell_type": "code",
   "execution_count": null,
   "metadata": {},
   "outputs": [],
   "source": [
    "df_cases_7 = df_cases_1[~(df_cases_1['age_category']=='Onset 21-49 years')].reset_index(drop=True)\n",
    "df_cases_8 = df_cases_2[~(df_cases_2['age_category']=='Onset 21-49 years')].reset_index(drop=True)"
   ]
  },
  {
   "cell_type": "code",
   "execution_count": null,
   "metadata": {},
   "outputs": [],
   "source": [
    "summary3 = [\n",
    "    thr.bonferroni_mean_std(\n",
    "        data_df      =df_cases_7, \n",
    "        variables    =stats_meas['mean'], \n",
    "        groups       =['Onset 50-60 years', 'Onset >60 years'],\n",
    "        grouping_by  ='age_category',\n",
    "        correc_factor=3\n",
    "    ),\n",
    "    thr.bonferroni_median_iqr(\n",
    "        data_df      =df_cases_7, \n",
    "        variables    =stats_meas['median'], \n",
    "        groups       =['Onset 50-60 years', 'Onset >60 years'],\n",
    "        grouping_by  ='age_category',\n",
    "        correc_factor=3\n",
    "    ),\n",
    "    thr.bonferroni_proportions(\n",
    "        data_df      =df_cases_7, \n",
    "        variables    =stats_meas['n'], \n",
    "        groups       =['Onset 50-60 years', 'Onset >60 years'],\n",
    "        grouping_by  ='age_category',\n",
    "        correc_factor=3\n",
    "    ),\n",
    "    thr.bonferroni_proportions(\n",
    "        data_df    =df_cases_8,\n",
    "        variables  =stats_meas2['n'],\n",
    "        groups     =['Onset 50-60 years', 'Onset >60 years'],\n",
    "        grouping_by='age_category',\n",
    "        correc_factor=3,\n",
    "        subheader  ='Medical History'\n",
    "    )\n",
    "]\n",
    "\n",
    "# concatenate all results\n",
    "df_113 = pd.concat(\n",
    "    summary3, axis=0, ignore_index=True\n",
    ")\n",
    "df_113.columns = ['Variable', 'Adjusted p-value (Medium vs Late)']"
   ]
  },
  {
   "cell_type": "code",
   "execution_count": null,
   "metadata": {},
   "outputs": [],
   "source": [
    "df_11 = thr.final_formatter(\n",
    "    overall_df=df_11,\n",
    "    adjusted_df=[df_111, df_112, df_113],\n",
    "    groups=groups\n",
    ")"
   ]
  },
  {
   "cell_type": "code",
   "execution_count": null,
   "metadata": {},
   "outputs": [],
   "source": [
    "# save result in csv file\n",
    "\n",
    "df_11.to_csv(os.path.join(path_to_lib, 'data/auxiliar/appendix_4.csv'), index=False)\n",
    "df_11"
   ]
  }
 ],
 "metadata": {
  "kernelspec": {
   "display_name": ".venv",
   "language": "python",
   "name": "python3"
  },
  "language_info": {
   "codemirror_mode": {
    "name": "ipython",
    "version": 3
   },
   "file_extension": ".py",
   "mimetype": "text/x-python",
   "name": "python",
   "nbconvert_exporter": "python",
   "pygments_lexer": "ipython3",
   "version": "3.12.7"
  }
 },
 "nbformat": 4,
 "nbformat_minor": 2
}
