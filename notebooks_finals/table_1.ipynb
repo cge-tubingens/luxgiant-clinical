{
 "cells": [
  {
   "cell_type": "markdown",
   "metadata": {},
   "source": [
    "# Final Table 1\n",
    "\n",
    "In order to give a more compact summary of the obtained results we merge the auxiliary tables 2, 6 and 10. "
   ]
  },
  {
   "cell_type": "code",
   "execution_count": null,
   "metadata": {},
   "outputs": [],
   "source": [
    "def get_library_path()->str:\n",
    "\n",
    "    cwd = os.getcwd()\n",
    "    lst = cwd.split(os.sep)[:-1]\n",
    "\n",
    "    path_lib = f'{os.sep}'\n",
    "\n",
    "    for elem in lst:\n",
    "        path_lib = os.path.join(path_lib, elem)\n",
    "\n",
    "    return path_lib\n",
    "\n",
    "# imports\n",
    "\n",
    "import os\n",
    "\n",
    "import pandas as pd\n",
    "\n",
    "path_to_lib = get_library_path()"
   ]
  },
  {
   "cell_type": "code",
   "execution_count": null,
   "metadata": {},
   "outputs": [],
   "source": [
    "# load data\n",
    "\n",
    "df_2 = pd.read_csv(\n",
    "    os.path.join(path_to_lib, 'data/auxiliar/aux_table_2.csv')\n",
    ")\n",
    "df_2 = df_2.drop(columns='Statistical Measure', inplace=False).fillna('')\n",
    "\n",
    "df_6 = pd.read_csv(\n",
    "    os.path.join(path_to_lib, 'data/auxiliar/aux_table_6.csv')\n",
    ")\n",
    "df_6 = df_6.drop(columns='Statistical Measure', inplace=False).fillna('')\n",
    "\n",
    "df_10 = pd.read_csv(\n",
    "    os.path.join(path_to_lib, 'data/auxiliar/aux_table_10.csv')\n",
    ")\n",
    "df_10 = df_10.drop(columns='Statistical Measure', inplace=False).fillna('')"
   ]
  },
  {
   "cell_type": "markdown",
   "metadata": {},
   "source": [
    "We will use multi-level columns for each one of the data frames in order to give a clearer exposition after the merge of both tables."
   ]
  },
  {
   "cell_type": "code",
   "execution_count": null,
   "metadata": {},
   "outputs": [],
   "source": [
    "# create multi-level columns for Table 2\n",
    "\n",
    "multi_index_2 = pd.MultiIndex.from_tuples(\n",
    "    [('', 'Variables'), \n",
    "     ('Male/Female Comp', 'Male'), \n",
    "     ('Male/Female Comp', 'Female'),\n",
    "     ('Male/Female Comp', 'p-value'),\n",
    "     ('Male/Female Comp', 'Total'),\n",
    "     ('Male/Female Comp', 'Available Samples for Analysis')]\n",
    ")\n",
    "df_2.columns = multi_index_2"
   ]
  },
  {
   "cell_type": "code",
   "execution_count": null,
   "metadata": {},
   "outputs": [],
   "source": [
    "# create multi-level columns for Table 6\n",
    "\n",
    "multi_index_6 = pd.MultiIndex.from_tuples(\n",
    "    [('', 'Variables'), \n",
    "     ('Early/Late Onset Comp', 'Age at onset <50 years'), \n",
    "     ('Early/Late Onset Comp', 'Age at onset >=50 years'),\n",
    "     ('Early/Late Onset Comp', 'p-value'),\n",
    "     ('Early/Late Onset Comp', 'Total'),\n",
    "     ('Early/Late Onset Comp', 'Available Samples for Analysis')]\n",
    ")\n",
    "df_6.columns = multi_index_6"
   ]
  },
  {
   "cell_type": "code",
   "execution_count": null,
   "metadata": {},
   "outputs": [],
   "source": [
    "# create multi-level columns for Table 10\n",
    "\n",
    "multi_index_10 = pd.MultiIndex.from_tuples(\n",
    "    [('', 'Variables'), \n",
    "     ('PD Duration Comp', 'PD duration <=5 yrs'), \n",
    "     ('PD Duration Comp', 'PD duration >5 yrs'),\n",
    "     ('PD Duration Comp', 'p-value'),\n",
    "     ('PD Duration Comp', 'Total'),\n",
    "     ('PD Duration Comp', 'Available Samples for Analysis')]\n",
    ")\n",
    "df_10.columns = multi_index_10"
   ]
  },
  {
   "cell_type": "code",
   "execution_count": null,
   "metadata": {},
   "outputs": [],
   "source": [
    "# merge and save resulting table\n",
    "\n",
    "df_mrg = df_2\\\n",
    "    .merge(df_6, on=[('', 'Variables')])\\\n",
    "    .merge(df_10, on=[('', 'Variables')])\n",
    "\n",
    "df_mrg.to_csv(os.path.join(path_to_lib, 'data/final/Table_1.csv'), index=False)\n",
    "\n",
    "df_mrg"
   ]
  }
 ],
 "metadata": {
  "kernelspec": {
   "display_name": ".venv",
   "language": "python",
   "name": "python3"
  },
  "language_info": {
   "codemirror_mode": {
    "name": "ipython",
    "version": 3
   },
   "file_extension": ".py",
   "mimetype": "text/x-python",
   "name": "python",
   "nbconvert_exporter": "python",
   "pygments_lexer": "ipython3",
   "version": "3.12.4"
  }
 },
 "nbformat": 4,
 "nbformat_minor": 2
}
